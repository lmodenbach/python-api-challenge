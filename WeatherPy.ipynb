{
 "cells": [
  {
   "cell_type": "markdown",
   "metadata": {},
   "source": [
    "# WeatherPy\n",
    "----\n",
    "\n",
    "#### Note\n",
    "* Instructions have been included for each segment. You do not have to follow them exactly, but they are included to help you think through the steps."
   ]
  },
  {
   "cell_type": "code",
   "execution_count": 1,
   "metadata": {
    "scrolled": true
   },
   "outputs": [],
   "source": [
    "#dependencies and Setup\n",
    "import matplotlib.pyplot as plt\n",
    "import pandas as pd\n",
    "import numpy as np\n",
    "import requests\n",
    "import time\n",
    "import datetime\n",
    "from scipy.stats import linregress\n",
    "\n",
    "#import API key\n",
    "from api_keys import weather_api_key\n",
    "\n",
    "#import citipy to determine city based on latitude and longitude\n",
    "from citipy import citipy\n",
    "\n",
    "#import geopy to find country based on latitude and longitude\n",
    "from geopy.geocoders import Nominatim\n",
    "\n",
    "#output to File (CSV)\n",
    "output_data_file = \"output_data/cities.csv\"\n",
    "\n",
    "#range of latitudes and longitudes\n",
    "lat_range = (-90, 90)\n",
    "lng_range = (-180, 180)"
   ]
  },
  {
   "cell_type": "markdown",
   "metadata": {},
   "source": [
    "## Generate Cities List"
   ]
  },
  {
   "cell_type": "code",
   "execution_count": 2,
   "metadata": {},
   "outputs": [
    {
     "data": {
      "text/plain": [
       "655"
      ]
     },
     "execution_count": 2,
     "metadata": {},
     "output_type": "execute_result"
    }
   ],
   "source": [
    "#list for holding lat/lng and cities\n",
    "lat_lngs = []\n",
    "cities = []\n",
    "\n",
    "#create a set of random lat and lng combinations, zip into one list variable\n",
    "lats = np.random.uniform(lat_range[0], lat_range[1], size=1500)\n",
    "lngs = np.random.uniform(lng_range[0], lng_range[1], size=1500)\n",
    "lat_lngs = zip(lats, lngs)\n",
    "\n",
    "\n",
    "#identify nearest city for each lat, lng combination\n",
    "for lat_lng in lat_lngs:\n",
    "    city = citipy.nearest_city(lat_lng[0], lat_lng[1]).city_name\n",
    "    \n",
    "    #if the city is not already in our cities list, add it\n",
    "    if city not in cities:\n",
    "        cities.append(city)\n",
    "\n",
    "#print the city count to confirm sufficient count\n",
    "len(cities)"
   ]
  },
  {
   "cell_type": "markdown",
   "metadata": {},
   "source": [
    "### Perform API Calls\n",
    "* Perform a weather check on each city using a series of successive API calls.\n",
    "* Include a print log of each city as it'sbeing processed (with the city number and city name).\n"
   ]
  },
  {
   "cell_type": "code",
   "execution_count": 3,
   "metadata": {
    "scrolled": true
   },
   "outputs": [
    {
     "name": "stdout",
     "output_type": "stream",
     "text": [
      "Beginning Data Retrieval\n",
      "----------------------------\n",
      "processing record 1 of set 1 | barrow\n",
      "processing record 2 of set 1 | kapaa\n",
      "processing record 3 of set 1 | wa\n",
      "wa not found. Skipping...\n",
      "processing record 4 of set 1 | carnarvon\n",
      "processing record 5 of set 1 | ushuaia\n",
      "processing record 6 of set 1 | hermanus\n",
      "processing record 7 of set 1 | zhanaozen\n",
      "processing record 8 of set 1 | fortuna\n",
      "processing record 9 of set 1 | kilcoole\n",
      "processing record 10 of set 1 | sumbawa\n",
      "sumbawa not found. Skipping...\n",
      "processing record 11 of set 1 | punta arenas\n",
      "processing record 12 of set 1 | saint-augustin\n",
      "processing record 13 of set 1 | rikitea\n",
      "processing record 14 of set 1 | ilulissat\n",
      "processing record 15 of set 1 | bredasdorp\n",
      "processing record 16 of set 1 | robertsport\n",
      "processing record 17 of set 1 | lebu\n",
      "processing record 18 of set 1 | sola\n",
      "processing record 19 of set 1 | hithadhoo\n",
      "processing record 20 of set 1 | mataura\n"
     ]
    }
   ],
   "source": [
    "\n",
    "url = 'http://api.openweathermap.org/data/2.5/weather?units=imperial&appid=' + weather_api_key + '&q=' \n",
    "\n",
    "cityData = []\n",
    "cityDataStats = []\n",
    "set_count = 1 #group\n",
    "record = 1 #record within group\n",
    "\n",
    "print(f'Beginning Data Retrieval')\n",
    "print(f'----------------------------')\n",
    "\n",
    "for i, city in enumerate(cities):\n",
    "    if(i % 50 == 0 and i >= 50):\n",
    "        set_count += 1 #make new group\n",
    "        record = 0 #reset records in the group \n",
    "        \n",
    "#output record and group being processed\n",
    "    print(f'processing record {record} of set {set_count} | {city}')       \n",
    "     \n",
    "    record += 1\n",
    "    \n",
    "    cityurl = url + city\n",
    "    try:\n",
    "        cityWeather = requests.get(cityurl).json()\n",
    "        lat = cityWeather['coord']['lat']\n",
    "        lon = cityWeather['coord']['lon']\n",
    "        maxTemp = cityWeather['main']['temp_max']\n",
    "        humidity = cityWeather['main']['humidity']\n",
    "        cloudiness = cityWeather['clouds']['all']\n",
    "        windSpeed = cityWeather['wind']['speed']\n",
    "        date = cityWeather['dt']\n",
    "        timestamp = datetime.datetime.fromtimestamp(date)\n",
    "        dateConvert = timestamp.strftime('%m-%d-%Y At %H:%M:%S')\n",
    "        geolocator = Nominatim(user_agent=\"python_api_project\")\n",
    "        location = geolocator.reverse(str(lat)+\",\"+str(lon))\n",
    "        address = location.raw['address']\n",
    "        country_code = address.get('country_code').upper()\n",
    "        \n",
    "        cityData.append({'City':city, 'Lat':round(lat, 2), 'Lng':round(lon, 2), 'Max Temp': str(maxTemp) + ' F', \n",
    "                         'Humidity':str(humidity) + '%', 'Cloudiness':str(cloudiness) + '%', 'Wind Speed':str(windSpeed) + ' MPH',\n",
    "                        'Country': country_code, 'Date':dateConvert})\n",
    "        cityDataStats.append({'Lat':lat, 'Lng':lon, 'Max Temp': maxTemp, \n",
    "                         'Humidity':humidity, 'Cloudiness':cloudiness, 'Wind Speed':windSpeed,\n",
    "                        'Date':date})\n",
    "\n",
    "        \n",
    "        \n",
    "\n",
    "    except:\n",
    "        print(f'{city} not found. Skipping...')\n",
    "     \n",
    "    if (i == 19):\n",
    "        break"
   ]
  },
  {
   "cell_type": "markdown",
   "metadata": {},
   "source": [
    "### Convert Raw Data to DataFrame\n",
    "* Export the city data into a .csv.\n",
    "* Display the DataFrame"
   ]
  },
  {
   "cell_type": "code",
   "execution_count": 4,
   "metadata": {},
   "outputs": [
    {
     "data": {
      "text/html": [
       "<div>\n",
       "<style scoped>\n",
       "    .dataframe tbody tr th:only-of-type {\n",
       "        vertical-align: middle;\n",
       "    }\n",
       "\n",
       "    .dataframe tbody tr th {\n",
       "        vertical-align: top;\n",
       "    }\n",
       "\n",
       "    .dataframe thead th {\n",
       "        text-align: right;\n",
       "    }\n",
       "</style>\n",
       "<table border=\"1\" class=\"dataframe\">\n",
       "  <thead>\n",
       "    <tr style=\"text-align: right;\">\n",
       "      <th></th>\n",
       "      <th>City</th>\n",
       "      <th>Lat</th>\n",
       "      <th>Lng</th>\n",
       "      <th>Max Temp</th>\n",
       "      <th>Humidity</th>\n",
       "      <th>Cloudiness</th>\n",
       "      <th>Wind Speed</th>\n",
       "      <th>Country</th>\n",
       "      <th>Date</th>\n",
       "    </tr>\n",
       "  </thead>\n",
       "  <tbody>\n",
       "    <tr>\n",
       "      <th>0</th>\n",
       "      <td>barrow</td>\n",
       "      <td>71.29</td>\n",
       "      <td>-156.79</td>\n",
       "      <td>10.4 F</td>\n",
       "      <td>85%</td>\n",
       "      <td>1%</td>\n",
       "      <td>4.61 MPH</td>\n",
       "      <td>US</td>\n",
       "      <td>04-23-2021 At 09:02:43</td>\n",
       "    </tr>\n",
       "    <tr>\n",
       "      <th>1</th>\n",
       "      <td>kapaa</td>\n",
       "      <td>22.08</td>\n",
       "      <td>-159.32</td>\n",
       "      <td>73.4 F</td>\n",
       "      <td>78%</td>\n",
       "      <td>75%</td>\n",
       "      <td>10.36 MPH</td>\n",
       "      <td>US</td>\n",
       "      <td>04-23-2021 At 09:02:48</td>\n",
       "    </tr>\n",
       "    <tr>\n",
       "      <th>2</th>\n",
       "      <td>carnarvon</td>\n",
       "      <td>-24.87</td>\n",
       "      <td>113.63</td>\n",
       "      <td>69.8 F</td>\n",
       "      <td>83%</td>\n",
       "      <td>1%</td>\n",
       "      <td>10.36 MPH</td>\n",
       "      <td>AU</td>\n",
       "      <td>04-23-2021 At 09:03:55</td>\n",
       "    </tr>\n",
       "    <tr>\n",
       "      <th>3</th>\n",
       "      <td>ushuaia</td>\n",
       "      <td>-54.80</td>\n",
       "      <td>-68.30</td>\n",
       "      <td>42.8 F</td>\n",
       "      <td>87%</td>\n",
       "      <td>90%</td>\n",
       "      <td>2.26 MPH</td>\n",
       "      <td>AR</td>\n",
       "      <td>04-23-2021 At 08:57:44</td>\n",
       "    </tr>\n",
       "    <tr>\n",
       "      <th>4</th>\n",
       "      <td>hermanus</td>\n",
       "      <td>-34.42</td>\n",
       "      <td>19.23</td>\n",
       "      <td>63 F</td>\n",
       "      <td>76%</td>\n",
       "      <td>70%</td>\n",
       "      <td>1.99 MPH</td>\n",
       "      <td>ZA</td>\n",
       "      <td>04-23-2021 At 09:00:20</td>\n",
       "    </tr>\n",
       "  </tbody>\n",
       "</table>\n",
       "</div>"
      ],
      "text/plain": [
       "        City    Lat     Lng Max Temp Humidity Cloudiness Wind Speed Country  \\\n",
       "0     barrow  71.29 -156.79   10.4 F      85%         1%   4.61 MPH      US   \n",
       "1      kapaa  22.08 -159.32   73.4 F      78%        75%  10.36 MPH      US   \n",
       "2  carnarvon -24.87  113.63   69.8 F      83%         1%  10.36 MPH      AU   \n",
       "3    ushuaia -54.80  -68.30   42.8 F      87%        90%   2.26 MPH      AR   \n",
       "4   hermanus -34.42   19.23     63 F      76%        70%   1.99 MPH      ZA   \n",
       "\n",
       "                     Date  \n",
       "0  04-23-2021 At 09:02:43  \n",
       "1  04-23-2021 At 09:02:48  \n",
       "2  04-23-2021 At 09:03:55  \n",
       "3  04-23-2021 At 08:57:44  \n",
       "4  04-23-2021 At 09:00:20  "
      ]
     },
     "execution_count": 4,
     "metadata": {},
     "output_type": "execute_result"
    }
   ],
   "source": [
    "cityData_pd = pd.DataFrame(cityData)\n",
    "cityData_pd.head()"
   ]
  },
  {
   "cell_type": "code",
   "execution_count": 5,
   "metadata": {},
   "outputs": [
    {
     "data": {
      "text/html": [
       "<div>\n",
       "<style scoped>\n",
       "    .dataframe tbody tr th:only-of-type {\n",
       "        vertical-align: middle;\n",
       "    }\n",
       "\n",
       "    .dataframe tbody tr th {\n",
       "        vertical-align: top;\n",
       "    }\n",
       "\n",
       "    .dataframe thead th {\n",
       "        text-align: right;\n",
       "    }\n",
       "</style>\n",
       "<table border=\"1\" class=\"dataframe\">\n",
       "  <thead>\n",
       "    <tr style=\"text-align: right;\">\n",
       "      <th></th>\n",
       "      <th>Lat</th>\n",
       "      <th>Lng</th>\n",
       "      <th>Max Temp</th>\n",
       "      <th>Humidity</th>\n",
       "      <th>Cloudiness</th>\n",
       "      <th>Wind Speed</th>\n",
       "      <th>Date</th>\n",
       "    </tr>\n",
       "  </thead>\n",
       "  <tbody>\n",
       "    <tr>\n",
       "      <th>count</th>\n",
       "      <td>18.000000</td>\n",
       "      <td>18.000000</td>\n",
       "      <td>18.000000</td>\n",
       "      <td>18.000000</td>\n",
       "      <td>18.000000</td>\n",
       "      <td>18.000000</td>\n",
       "      <td>1.800000e+01</td>\n",
       "    </tr>\n",
       "    <tr>\n",
       "      <th>mean</th>\n",
       "      <td>1.910122</td>\n",
       "      <td>-16.671056</td>\n",
       "      <td>58.336111</td>\n",
       "      <td>72.166667</td>\n",
       "      <td>55.611111</td>\n",
       "      <td>9.216111</td>\n",
       "      <td>1.619194e+09</td>\n",
       "    </tr>\n",
       "    <tr>\n",
       "      <th>std</th>\n",
       "      <td>43.661488</td>\n",
       "      <td>102.421009</td>\n",
       "      <td>19.192542</td>\n",
       "      <td>15.313393</td>\n",
       "      <td>38.646420</td>\n",
       "      <td>6.821671</td>\n",
       "      <td>1.407769e+02</td>\n",
       "    </tr>\n",
       "    <tr>\n",
       "      <th>min</th>\n",
       "      <td>-54.800000</td>\n",
       "      <td>-159.319000</td>\n",
       "      <td>10.400000</td>\n",
       "      <td>36.000000</td>\n",
       "      <td>1.000000</td>\n",
       "      <td>1.990000</td>\n",
       "      <td>1.619193e+09</td>\n",
       "    </tr>\n",
       "    <tr>\n",
       "      <th>25%</th>\n",
       "      <td>-34.503825</td>\n",
       "      <td>-72.966675</td>\n",
       "      <td>45.350000</td>\n",
       "      <td>65.750000</td>\n",
       "      <td>22.750000</td>\n",
       "      <td>3.580000</td>\n",
       "      <td>1.619194e+09</td>\n",
       "    </tr>\n",
       "    <tr>\n",
       "      <th>50%</th>\n",
       "      <td>-7.241650</td>\n",
       "      <td>-31.234300</td>\n",
       "      <td>59.120000</td>\n",
       "      <td>72.500000</td>\n",
       "      <td>61.000000</td>\n",
       "      <td>5.840000</td>\n",
       "      <td>1.619194e+09</td>\n",
       "    </tr>\n",
       "    <tr>\n",
       "      <th>75%</th>\n",
       "      <td>42.624550</td>\n",
       "      <td>44.610075</td>\n",
       "      <td>72.500000</td>\n",
       "      <td>82.500000</td>\n",
       "      <td>93.750000</td>\n",
       "      <td>14.340000</td>\n",
       "      <td>1.619194e+09</td>\n",
       "    </tr>\n",
       "    <tr>\n",
       "      <th>max</th>\n",
       "      <td>71.290600</td>\n",
       "      <td>168.864300</td>\n",
       "      <td>82.870000</td>\n",
       "      <td>96.000000</td>\n",
       "      <td>100.000000</td>\n",
       "      <td>21.050000</td>\n",
       "      <td>1.619194e+09</td>\n",
       "    </tr>\n",
       "  </tbody>\n",
       "</table>\n",
       "</div>"
      ],
      "text/plain": [
       "             Lat         Lng   Max Temp   Humidity  Cloudiness  Wind Speed  \\\n",
       "count  18.000000   18.000000  18.000000  18.000000   18.000000   18.000000   \n",
       "mean    1.910122  -16.671056  58.336111  72.166667   55.611111    9.216111   \n",
       "std    43.661488  102.421009  19.192542  15.313393   38.646420    6.821671   \n",
       "min   -54.800000 -159.319000  10.400000  36.000000    1.000000    1.990000   \n",
       "25%   -34.503825  -72.966675  45.350000  65.750000   22.750000    3.580000   \n",
       "50%    -7.241650  -31.234300  59.120000  72.500000   61.000000    5.840000   \n",
       "75%    42.624550   44.610075  72.500000  82.500000   93.750000   14.340000   \n",
       "max    71.290600  168.864300  82.870000  96.000000  100.000000   21.050000   \n",
       "\n",
       "               Date  \n",
       "count  1.800000e+01  \n",
       "mean   1.619194e+09  \n",
       "std    1.407769e+02  \n",
       "min    1.619193e+09  \n",
       "25%    1.619194e+09  \n",
       "50%    1.619194e+09  \n",
       "75%    1.619194e+09  \n",
       "max    1.619194e+09  "
      ]
     },
     "execution_count": 5,
     "metadata": {},
     "output_type": "execute_result"
    }
   ],
   "source": [
    "cityDataStats_pd = pd.DataFrame(cityDataStats)\n",
    "cityDataStats_pd.describe(datetime_is_numeric=True)"
   ]
  },
  {
   "cell_type": "markdown",
   "metadata": {},
   "source": [
    "## Inspect the data and remove the cities where the humidity > 100%.\n",
    "----\n",
    "Skip this step if there are no cities that have humidity > 100%. "
   ]
  },
  {
   "cell_type": "code",
   "execution_count": 6,
   "metadata": {},
   "outputs": [
    {
     "name": "stdout",
     "output_type": "stream",
     "text": [
      "Humidity data not retrievable. Skipping...\n",
      "Humidity data not retrievable. Skipping...\n",
      "Humidity data not retrievable. Skipping...\n",
      "Humidity data not retrievable. Skipping...\n",
      "Humidity data not retrievable. Skipping...\n",
      "Humidity data not retrievable. Skipping...\n",
      "Humidity data not retrievable. Skipping...\n",
      "Humidity data not retrievable. Skipping...\n",
      "Humidity data not retrievable. Skipping...\n",
      "Humidity data not retrievable. Skipping...\n",
      "Humidity data not retrievable. Skipping...\n",
      "Humidity data not retrievable. Skipping...\n",
      "Humidity data not retrievable. Skipping...\n",
      "Humidity data not retrievable. Skipping...\n",
      "Humidity data not retrievable. Skipping...\n",
      "Humidity data not retrievable. Skipping...\n",
      "Humidity data not retrievable. Skipping...\n",
      "Humidity data not retrievable. Skipping...\n",
      "Humidity data not retrievable. Skipping...\n",
      "Humidity data not retrievable. Skipping...\n",
      "Humidity data not retrievable. Skipping...\n",
      "Humidity data not retrievable. Skipping...\n",
      "Humidity data not retrievable. Skipping...\n",
      "Humidity data not retrievable. Skipping...\n",
      "Humidity data not retrievable. Skipping...\n",
      "Humidity data not retrievable. Skipping...\n",
      "Humidity data not retrievable. Skipping...\n",
      "Humidity data not retrievable. Skipping...\n",
      "Humidity data not retrievable. Skipping...\n",
      "Humidity data not retrievable. Skipping...\n",
      "Humidity data not retrievable. Skipping...\n",
      "Humidity data not retrievable. Skipping...\n",
      "Humidity data not retrievable. Skipping...\n",
      "Humidity data not retrievable. Skipping...\n",
      "Humidity data not retrievable. Skipping...\n",
      "Humidity data not retrievable. Skipping...\n",
      "Humidity data not retrievable. Skipping...\n",
      "Humidity data not retrievable. Skipping...\n",
      "Humidity data not retrievable. Skipping...\n",
      "Humidity data not retrievable. Skipping...\n",
      "Humidity data not retrievable. Skipping...\n",
      "Humidity data not retrievable. Skipping...\n",
      "Humidity data not retrievable. Skipping...\n",
      "Humidity data not retrievable. Skipping...\n",
      "Humidity data not retrievable. Skipping...\n",
      "Humidity data not retrievable. Skipping...\n"
     ]
    },
    {
     "data": {
      "text/html": [
       "<div>\n",
       "<style scoped>\n",
       "    .dataframe tbody tr th:only-of-type {\n",
       "        vertical-align: middle;\n",
       "    }\n",
       "\n",
       "    .dataframe tbody tr th {\n",
       "        vertical-align: top;\n",
       "    }\n",
       "\n",
       "    .dataframe thead th {\n",
       "        text-align: right;\n",
       "    }\n",
       "</style>\n",
       "<table border=\"1\" class=\"dataframe\">\n",
       "  <thead>\n",
       "    <tr style=\"text-align: right;\">\n",
       "      <th></th>\n",
       "      <th>City</th>\n",
       "      <th>Lat</th>\n",
       "      <th>Lng</th>\n",
       "      <th>Max Temp</th>\n",
       "      <th>Humidity</th>\n",
       "      <th>Cloudiness</th>\n",
       "      <th>Wind Speed</th>\n",
       "      <th>Country</th>\n",
       "      <th>Date</th>\n",
       "    </tr>\n",
       "  </thead>\n",
       "  <tbody>\n",
       "    <tr>\n",
       "      <th>0</th>\n",
       "      <td>barrow</td>\n",
       "      <td>71.29</td>\n",
       "      <td>-156.79</td>\n",
       "      <td>10.4 F</td>\n",
       "      <td>85%</td>\n",
       "      <td>1%</td>\n",
       "      <td>4.61 MPH</td>\n",
       "      <td>US</td>\n",
       "      <td>04-23-2021 At 09:02:43</td>\n",
       "    </tr>\n",
       "    <tr>\n",
       "      <th>1</th>\n",
       "      <td>kapaa</td>\n",
       "      <td>22.08</td>\n",
       "      <td>-159.32</td>\n",
       "      <td>73.4 F</td>\n",
       "      <td>78%</td>\n",
       "      <td>75%</td>\n",
       "      <td>10.36 MPH</td>\n",
       "      <td>US</td>\n",
       "      <td>04-23-2021 At 09:02:48</td>\n",
       "    </tr>\n",
       "    <tr>\n",
       "      <th>2</th>\n",
       "      <td>carnarvon</td>\n",
       "      <td>-24.87</td>\n",
       "      <td>113.63</td>\n",
       "      <td>69.8 F</td>\n",
       "      <td>83%</td>\n",
       "      <td>1%</td>\n",
       "      <td>10.36 MPH</td>\n",
       "      <td>AU</td>\n",
       "      <td>04-23-2021 At 09:03:55</td>\n",
       "    </tr>\n",
       "    <tr>\n",
       "      <th>3</th>\n",
       "      <td>ushuaia</td>\n",
       "      <td>-54.80</td>\n",
       "      <td>-68.30</td>\n",
       "      <td>42.8 F</td>\n",
       "      <td>87%</td>\n",
       "      <td>90%</td>\n",
       "      <td>2.26 MPH</td>\n",
       "      <td>AR</td>\n",
       "      <td>04-23-2021 At 08:57:44</td>\n",
       "    </tr>\n",
       "    <tr>\n",
       "      <th>4</th>\n",
       "      <td>hermanus</td>\n",
       "      <td>-34.42</td>\n",
       "      <td>19.23</td>\n",
       "      <td>63 F</td>\n",
       "      <td>76%</td>\n",
       "      <td>70%</td>\n",
       "      <td>1.99 MPH</td>\n",
       "      <td>ZA</td>\n",
       "      <td>04-23-2021 At 09:00:20</td>\n",
       "    </tr>\n",
       "    <tr>\n",
       "      <th>5</th>\n",
       "      <td>zhanaozen</td>\n",
       "      <td>43.30</td>\n",
       "      <td>52.80</td>\n",
       "      <td>59.38 F</td>\n",
       "      <td>55%</td>\n",
       "      <td>22%</td>\n",
       "      <td>21.05 MPH</td>\n",
       "      <td>KZ</td>\n",
       "      <td>04-23-2021 At 09:05:22</td>\n",
       "    </tr>\n",
       "    <tr>\n",
       "      <th>6</th>\n",
       "      <td>fortuna</td>\n",
       "      <td>40.60</td>\n",
       "      <td>-124.16</td>\n",
       "      <td>55.99 F</td>\n",
       "      <td>81%</td>\n",
       "      <td>1%</td>\n",
       "      <td>3.15 MPH</td>\n",
       "      <td>US</td>\n",
       "      <td>04-23-2021 At 09:02:00</td>\n",
       "    </tr>\n",
       "    <tr>\n",
       "      <th>7</th>\n",
       "      <td>kilcoole</td>\n",
       "      <td>53.10</td>\n",
       "      <td>-6.07</td>\n",
       "      <td>57 F</td>\n",
       "      <td>36%</td>\n",
       "      <td>100%</td>\n",
       "      <td>3 MPH</td>\n",
       "      <td>IE</td>\n",
       "      <td>04-23-2021 At 09:05:23</td>\n",
       "    </tr>\n",
       "    <tr>\n",
       "      <th>8</th>\n",
       "      <td>punta arenas</td>\n",
       "      <td>-53.15</td>\n",
       "      <td>-70.92</td>\n",
       "      <td>46.4 F</td>\n",
       "      <td>93%</td>\n",
       "      <td>90%</td>\n",
       "      <td>3.44 MPH</td>\n",
       "      <td>CL</td>\n",
       "      <td>04-23-2021 At 08:59:53</td>\n",
       "    </tr>\n",
       "    <tr>\n",
       "      <th>9</th>\n",
       "      <td>saint-augustin</td>\n",
       "      <td>51.23</td>\n",
       "      <td>-58.65</td>\n",
       "      <td>37.08 F</td>\n",
       "      <td>65%</td>\n",
       "      <td>100%</td>\n",
       "      <td>17.36 MPH</td>\n",
       "      <td>CA</td>\n",
       "      <td>04-23-2021 At 09:01:34</td>\n",
       "    </tr>\n",
       "  </tbody>\n",
       "</table>\n",
       "</div>"
      ],
      "text/plain": [
       "             City    Lat     Lng Max Temp Humidity Cloudiness Wind Speed  \\\n",
       "0          barrow  71.29 -156.79   10.4 F      85%         1%   4.61 MPH   \n",
       "1           kapaa  22.08 -159.32   73.4 F      78%        75%  10.36 MPH   \n",
       "2       carnarvon -24.87  113.63   69.8 F      83%         1%  10.36 MPH   \n",
       "3         ushuaia -54.80  -68.30   42.8 F      87%        90%   2.26 MPH   \n",
       "4        hermanus -34.42   19.23     63 F      76%        70%   1.99 MPH   \n",
       "5       zhanaozen  43.30   52.80  59.38 F      55%        22%  21.05 MPH   \n",
       "6         fortuna  40.60 -124.16  55.99 F      81%         1%   3.15 MPH   \n",
       "7        kilcoole  53.10   -6.07     57 F      36%       100%      3 MPH   \n",
       "8    punta arenas -53.15  -70.92   46.4 F      93%        90%   3.44 MPH   \n",
       "9  saint-augustin  51.23  -58.65  37.08 F      65%       100%  17.36 MPH   \n",
       "\n",
       "  Country                    Date  \n",
       "0      US  04-23-2021 At 09:02:43  \n",
       "1      US  04-23-2021 At 09:02:48  \n",
       "2      AU  04-23-2021 At 09:03:55  \n",
       "3      AR  04-23-2021 At 08:57:44  \n",
       "4      ZA  04-23-2021 At 09:00:20  \n",
       "5      KZ  04-23-2021 At 09:05:22  \n",
       "6      US  04-23-2021 At 09:02:00  \n",
       "7      IE  04-23-2021 At 09:05:23  \n",
       "8      CL  04-23-2021 At 08:59:53  \n",
       "9      CA  04-23-2021 At 09:01:34  "
      ]
     },
     "execution_count": 6,
     "metadata": {},
     "output_type": "execute_result"
    }
   ],
   "source": [
    "#get the indices of cities that have humidity over 100%.\n",
    "cityDataClean_pd = cityData_pd\n",
    "for i, city in enumerate(cities):\n",
    "    url = 'http://api.openweathermap.org/data/2.5/weather?units=imperial&appid=' + weather_api_key + '&q='\n",
    "    cityurl = url + city\n",
    "    try:\n",
    "        cityWeather = requests.get(cityurl).json()\n",
    "        if(int(cityWeather['main']['humidity']) > 100):\n",
    "            cityDataClean.drop(i, axis=0)\n",
    "    except:\n",
    "        print('Humidity data not retrievable. Skipping...')\n",
    "cityDataClean_pd.head(10)\n",
    "        "
   ]
  },
  {
   "cell_type": "code",
   "execution_count": 7,
   "metadata": {},
   "outputs": [],
   "source": [
    "# Make a new DataFrame equal to the city data to drop all humidity outliers by index.\n",
    "# Passing \"inplace=False\" will make a copy of the city_data DataFrame, which we call \"clean_city_data\".\n"
   ]
  },
  {
   "cell_type": "code",
   "execution_count": null,
   "metadata": {},
   "outputs": [],
   "source": [
    "\n"
   ]
  },
  {
   "cell_type": "markdown",
   "metadata": {},
   "source": [
    "## Plotting the Data\n",
    "* Use proper labeling of the plots using plot titles (including date of analysis) and axes labels.\n",
    "* Save the plotted figures as .pngs."
   ]
  },
  {
   "cell_type": "markdown",
   "metadata": {},
   "source": [
    "## Latitude vs. Temperature Plot"
   ]
  },
  {
   "cell_type": "code",
   "execution_count": null,
   "metadata": {
    "scrolled": true
   },
   "outputs": [],
   "source": []
  },
  {
   "cell_type": "markdown",
   "metadata": {},
   "source": [
    "## Latitude vs. Humidity Plot"
   ]
  },
  {
   "cell_type": "code",
   "execution_count": null,
   "metadata": {},
   "outputs": [],
   "source": []
  },
  {
   "cell_type": "markdown",
   "metadata": {},
   "source": [
    "## Latitude vs. Cloudiness Plot"
   ]
  },
  {
   "cell_type": "code",
   "execution_count": null,
   "metadata": {},
   "outputs": [],
   "source": []
  },
  {
   "cell_type": "markdown",
   "metadata": {},
   "source": [
    "## Latitude vs. Wind Speed Plot"
   ]
  },
  {
   "cell_type": "code",
   "execution_count": null,
   "metadata": {},
   "outputs": [],
   "source": []
  },
  {
   "cell_type": "markdown",
   "metadata": {},
   "source": [
    "## Linear Regression"
   ]
  },
  {
   "cell_type": "code",
   "execution_count": null,
   "metadata": {},
   "outputs": [],
   "source": []
  },
  {
   "cell_type": "markdown",
   "metadata": {},
   "source": [
    "####  Northern Hemisphere - Max Temp vs. Latitude Linear Regression"
   ]
  },
  {
   "cell_type": "code",
   "execution_count": null,
   "metadata": {},
   "outputs": [],
   "source": []
  },
  {
   "cell_type": "markdown",
   "metadata": {},
   "source": [
    "####  Southern Hemisphere - Max Temp vs. Latitude Linear Regression"
   ]
  },
  {
   "cell_type": "code",
   "execution_count": null,
   "metadata": {},
   "outputs": [],
   "source": []
  },
  {
   "cell_type": "markdown",
   "metadata": {},
   "source": [
    "####  Northern Hemisphere - Humidity (%) vs. Latitude Linear Regression"
   ]
  },
  {
   "cell_type": "code",
   "execution_count": null,
   "metadata": {},
   "outputs": [],
   "source": []
  },
  {
   "cell_type": "markdown",
   "metadata": {},
   "source": [
    "####  Southern Hemisphere - Humidity (%) vs. Latitude Linear Regression"
   ]
  },
  {
   "cell_type": "code",
   "execution_count": null,
   "metadata": {},
   "outputs": [],
   "source": []
  },
  {
   "cell_type": "markdown",
   "metadata": {},
   "source": [
    "####  Northern Hemisphere - Cloudiness (%) vs. Latitude Linear Regression"
   ]
  },
  {
   "cell_type": "code",
   "execution_count": null,
   "metadata": {},
   "outputs": [],
   "source": []
  },
  {
   "cell_type": "markdown",
   "metadata": {},
   "source": [
    "####  Southern Hemisphere - Cloudiness (%) vs. Latitude Linear Regression"
   ]
  },
  {
   "cell_type": "code",
   "execution_count": null,
   "metadata": {},
   "outputs": [],
   "source": []
  },
  {
   "cell_type": "markdown",
   "metadata": {},
   "source": [
    "####  Northern Hemisphere - Wind Speed (mph) vs. Latitude Linear Regression"
   ]
  },
  {
   "cell_type": "code",
   "execution_count": null,
   "metadata": {},
   "outputs": [],
   "source": []
  },
  {
   "cell_type": "markdown",
   "metadata": {},
   "source": [
    "####  Southern Hemisphere - Wind Speed (mph) vs. Latitude Linear Regression"
   ]
  },
  {
   "cell_type": "code",
   "execution_count": null,
   "metadata": {},
   "outputs": [],
   "source": []
  },
  {
   "cell_type": "code",
   "execution_count": null,
   "metadata": {},
   "outputs": [],
   "source": []
  }
 ],
 "metadata": {
  "anaconda-cloud": {},
  "kernel_info": {
   "name": "python3"
  },
  "kernelspec": {
   "display_name": "Python 3",
   "language": "python",
   "name": "python3"
  },
  "language_info": {
   "codemirror_mode": {
    "name": "ipython",
    "version": 3
   },
   "file_extension": ".py",
   "mimetype": "text/x-python",
   "name": "python",
   "nbconvert_exporter": "python",
   "pygments_lexer": "ipython3",
   "version": "3.8.5"
  },
  "latex_envs": {
   "LaTeX_envs_menu_present": true,
   "autoclose": false,
   "autocomplete": true,
   "bibliofile": "biblio.bib",
   "cite_by": "apalike",
   "current_citInitial": 1,
   "eqLabelWithNumbers": true,
   "eqNumInitial": 1,
   "hotkeys": {
    "equation": "Ctrl-E",
    "itemize": "Ctrl-I"
   },
   "labels_anchors": false,
   "latex_user_defs": false,
   "report_style_numbering": false,
   "user_envs_cfg": false
  },
  "nteract": {
   "version": "0.12.3"
  }
 },
 "nbformat": 4,
 "nbformat_minor": 2
}
