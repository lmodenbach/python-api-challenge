{
 "cells": [
  {
   "cell_type": "markdown",
   "metadata": {},
   "source": [
    "# WeatherPy\n",
    "----\n",
    "\n",
    "#### Note\n",
    "* Instructions have been included for each segment. You do not have to follow them exactly, but they are included to help you think through the steps."
   ]
  },
  {
   "cell_type": "code",
   "execution_count": 1,
   "metadata": {
    "scrolled": true
   },
   "outputs": [],
   "source": [
    "#dependencies and Setup\n",
    "\n",
    "import matplotlib.pyplot as plt\n",
    "import pandas as pd\n",
    "import numpy as np\n",
    "import requests\n",
    "import time\n",
    "import datetime\n",
    "from scipy.stats import linregress\n",
    "\n",
    "#import API key\n",
    "from api_keys import weather_api_key\n",
    "\n",
    "#import citipy to determine city based on latitude and longitude\n",
    "from citipy import citipy\n",
    "\n",
    "#import geopy to find country based on latitude and longitude\n",
    "from geopy.geocoders import Nominatim\n",
    "\n",
    "#output csv path\n",
    "output_data_file = \"output_data/cities.csv\"\n",
    "\n",
    "#range of latitudes and longitudes\n",
    "lat_range = (-90, 90)\n",
    "lng_range = (-180, 180)"
   ]
  },
  {
   "cell_type": "markdown",
   "metadata": {},
   "source": [
    "## Generate Cities List"
   ]
  },
  {
   "cell_type": "code",
   "execution_count": 2,
   "metadata": {},
   "outputs": [
    {
     "data": {
      "text/plain": [
       "642"
      ]
     },
     "execution_count": 2,
     "metadata": {},
     "output_type": "execute_result"
    }
   ],
   "source": [
    "#list for holding lat/lng and cities\n",
    "lat_lngs = []\n",
    "cities = []\n",
    "\n",
    "#create a set of random lat and lng combinations, zip into one list variable\n",
    "lats = np.random.uniform(lat_range[0], lat_range[1], size=1500)\n",
    "lngs = np.random.uniform(lng_range[0], lng_range[1], size=1500)\n",
    "lat_lngs = zip(lats, lngs)\n",
    "\n",
    "\n",
    "#identify nearest city for each lat, lng combination\n",
    "for lat_lng in lat_lngs:\n",
    "    city = citipy.nearest_city(lat_lng[0], lat_lng[1]).city_name\n",
    "    \n",
    "    #if the city is not already in our cities list, add it\n",
    "    if city not in cities:\n",
    "        cities.append(city)\n",
    "\n",
    "#print the city count to confirm sufficient count\n",
    "len(cities)"
   ]
  },
  {
   "cell_type": "markdown",
   "metadata": {},
   "source": [
    "### Perform API Calls\n",
    "* Perform a weather check on each city using a series of successive API calls.\n",
    "* Include a print log of each city as it'sbeing processed (with the city number and city name).\n"
   ]
  },
  {
   "cell_type": "code",
   "execution_count": 56,
   "metadata": {
    "scrolled": true
   },
   "outputs": [
    {
     "name": "stdout",
     "output_type": "stream",
     "text": [
      "Beginning Data Retrieval\n",
      "----------------------------\n",
      "processing record 1 of set 1 | cape town\n",
      "processing record 2 of set 1 | coruripe\n",
      "processing record 3 of set 1 | adrar\n",
      "processing record 4 of set 1 | great yarmouth\n",
      "processing record 5 of set 1 | mys shmidta\n",
      "mys shmidta not found. Skipping...\n",
      "processing record 6 of set 1 | hobart\n",
      "processing record 7 of set 1 | bouna\n",
      "processing record 8 of set 1 | grindavik\n",
      "processing record 9 of set 1 | bethel\n",
      "processing record 10 of set 1 | katsuura\n",
      "processing record 11 of set 1 | mogadishu\n",
      "processing record 12 of set 1 | punta arenas\n",
      "processing record 13 of set 1 | yenagoa\n",
      "processing record 14 of set 1 | santiago de cao\n",
      "processing record 15 of set 1 | karakendzha\n",
      "karakendzha not found. Skipping...\n",
      "processing record 16 of set 1 | tiksi\n",
      "processing record 17 of set 1 | vagay\n",
      "processing record 18 of set 1 | rikitea\n",
      "processing record 19 of set 1 | zarate\n",
      "processing record 20 of set 1 | busselton\n",
      "processing record 21 of set 1 | avarua\n",
      "processing record 22 of set 1 | atuona\n",
      "processing record 23 of set 1 | codrington\n",
      "processing record 24 of set 1 | taolanaro\n",
      "taolanaro not found. Skipping...\n",
      "processing record 25 of set 1 | port victoria\n",
      "processing record 26 of set 1 | sitka\n",
      "processing record 27 of set 1 | hermanus\n",
      "processing record 28 of set 1 | nikolskoye\n",
      "processing record 29 of set 1 | daru\n",
      "processing record 30 of set 1 | saint-joseph\n",
      "processing record 31 of set 1 | mataura\n",
      "processing record 32 of set 1 | jarjis\n",
      "jarjis not found. Skipping...\n",
      "processing record 33 of set 1 | bobo dioulasso\n",
      "processing record 34 of set 1 | nuuk\n",
      "processing record 35 of set 1 | manaus\n",
      "processing record 36 of set 1 | padang\n",
      "processing record 37 of set 1 | camalu\n",
      "processing record 38 of set 1 | georgetown\n",
      "processing record 39 of set 1 | westport\n",
      "processing record 40 of set 1 | zhob\n",
      "processing record 41 of set 1 | yellowknife\n",
      "processing record 42 of set 1 | attawapiskat\n",
      "attawapiskat not found. Skipping...\n",
      "processing record 43 of set 1 | changji\n",
      "processing record 44 of set 1 | chuy\n",
      "processing record 45 of set 1 | mahebourg\n",
      "processing record 46 of set 1 | butaritari\n",
      "processing record 47 of set 1 | ushuaia\n",
      "processing record 48 of set 1 | zhangye\n",
      "processing record 49 of set 1 | puerto ayora\n",
      "processing record 50 of set 1 | santiago del estero\n",
      "processing record 0 of set 2 | jamestown\n",
      "processing record 1 of set 2 | jagtial\n",
      "processing record 2 of set 2 | tabou\n",
      "processing record 3 of set 2 | mar del plata\n",
      "processing record 4 of set 2 | torbay\n",
      "processing record 5 of set 2 | port alfred\n",
      "processing record 6 of set 2 | dikson\n",
      "processing record 7 of set 2 | anloga\n",
      "processing record 8 of set 2 | lompoc\n",
      "processing record 9 of set 2 | port hardy\n",
      "processing record 10 of set 2 | esperance\n",
      "processing record 11 of set 2 | bredasdorp\n",
      "processing record 12 of set 2 | mehamn\n",
      "processing record 13 of set 2 | severo-kurilsk\n",
      "processing record 14 of set 2 | kavieng\n",
      "processing record 15 of set 2 | geraldton\n",
      "processing record 16 of set 2 | deputatskiy\n",
      "processing record 17 of set 2 | pisco\n",
      "processing record 18 of set 2 | ponta do sol\n",
      "processing record 19 of set 2 | cabatuan\n",
      "processing record 20 of set 2 | upernavik\n",
      "processing record 21 of set 2 | marsh harbour\n",
      "processing record 22 of set 2 | paamiut\n",
      "processing record 23 of set 2 | tome-acu\n",
      "tome-acu not found. Skipping...\n",
      "processing record 24 of set 2 | vaini\n",
      "processing record 25 of set 2 | hearst\n",
      "processing record 26 of set 2 | carutapera\n",
      "processing record 27 of set 2 | bordighera\n",
      "processing record 28 of set 2 | jutai\n",
      "processing record 29 of set 2 | husavik\n",
      "processing record 30 of set 2 | klaksvik\n",
      "processing record 31 of set 2 | tessalit\n",
      "processing record 32 of set 2 | mnogovershinnyy\n",
      "processing record 33 of set 2 | baghdad\n",
      "processing record 34 of set 2 | lishu\n",
      "processing record 35 of set 2 | hithadhoo\n",
      "processing record 36 of set 2 | beihai\n",
      "processing record 37 of set 2 | cidreira\n",
      "processing record 38 of set 2 | vostok\n",
      "processing record 39 of set 2 | hilo\n",
      "processing record 40 of set 2 | coquimbo\n",
      "processing record 41 of set 2 | verkhnyaya inta\n",
      "processing record 42 of set 2 | berdigestyakh\n",
      "processing record 43 of set 2 | belushya guba\n",
      "belushya guba not found. Skipping...\n",
      "processing record 44 of set 2 | beloha\n",
      "processing record 45 of set 2 | west milford\n",
      "processing record 46 of set 2 | shingu\n",
      "processing record 47 of set 2 | burica\n",
      "burica not found. Skipping...\n",
      "processing record 48 of set 2 | barrow\n",
      "processing record 49 of set 2 | lebu\n",
      "processing record 0 of set 3 | nizhneyansk\n",
      "nizhneyansk not found. Skipping...\n",
      "processing record 1 of set 3 | souillac\n",
      "processing record 2 of set 3 | alice springs\n",
      "processing record 3 of set 3 | east london\n",
      "processing record 4 of set 3 | bamako\n",
      "processing record 5 of set 3 | marcona\n",
      "marcona not found. Skipping...\n",
      "processing record 6 of set 3 | fort nelson\n",
      "processing record 7 of set 3 | uwayl\n",
      "uwayl not found. Skipping...\n",
      "processing record 8 of set 3 | new norfolk\n",
      "processing record 9 of set 3 | ilulissat\n",
      "processing record 10 of set 3 | kapaa\n",
      "processing record 11 of set 3 | yulara\n",
      "processing record 12 of set 3 | castro\n",
      "processing record 13 of set 3 | pevek\n",
      "processing record 14 of set 3 | agirish\n",
      "processing record 15 of set 3 | chino\n",
      "processing record 16 of set 3 | haines junction\n",
      "processing record 17 of set 3 | kidal\n",
      "processing record 18 of set 3 | matara\n",
      "processing record 19 of set 3 | porto santo\n",
      "processing record 20 of set 3 | marevo\n",
      "processing record 21 of set 3 | barentsburg\n",
      "barentsburg not found. Skipping...\n",
      "processing record 22 of set 3 | awbari\n",
      "processing record 23 of set 3 | pout\n",
      "processing record 24 of set 3 | chokurdakh\n",
      "processing record 25 of set 3 | laguna\n",
      "processing record 26 of set 3 | nome\n",
      "processing record 27 of set 3 | leshukonskoye\n",
      "processing record 28 of set 3 | bluff\n",
      "processing record 29 of set 3 | sao filipe\n",
      "processing record 30 of set 3 | faya\n",
      "processing record 31 of set 3 | maningrida\n",
      "processing record 32 of set 3 | menongue\n",
      "processing record 33 of set 3 | catamarca\n",
      "processing record 34 of set 3 | teknaf\n",
      "processing record 35 of set 3 | umm durman\n",
      "umm durman not found. Skipping...\n",
      "processing record 36 of set 3 | kholodnyy\n",
      "processing record 37 of set 3 | sharjah\n",
      "processing record 38 of set 3 | buin\n",
      "processing record 39 of set 3 | belyy yar\n",
      "processing record 40 of set 3 | leningradskiy\n",
      "processing record 41 of set 3 | truckee\n",
      "processing record 42 of set 3 | kerman\n",
      "processing record 43 of set 3 | kumano\n",
      "processing record 44 of set 3 | broome\n",
      "processing record 45 of set 3 | buraydah\n",
      "processing record 46 of set 3 | ontario\n",
      "processing record 47 of set 3 | albany\n",
      "processing record 48 of set 3 | cervo\n",
      "processing record 49 of set 3 | gidole\n",
      "processing record 0 of set 4 | viedma\n",
      "processing record 1 of set 4 | khani\n",
      "processing record 2 of set 4 | clyde river\n",
      "processing record 3 of set 4 | tottori\n",
      "processing record 4 of set 4 | tobane\n",
      "processing record 5 of set 4 | sawakin\n",
      "processing record 6 of set 4 | vardo\n",
      "processing record 7 of set 4 | caravelas\n",
      "processing record 8 of set 4 | nanortalik\n",
      "processing record 9 of set 4 | kailua\n",
      "processing record 10 of set 4 | harper\n",
      "processing record 11 of set 4 | herat\n",
      "processing record 12 of set 4 | el faiyum\n",
      "el faiyum not found. Skipping...\n",
      "processing record 13 of set 4 | galle\n",
      "processing record 14 of set 4 | guasdualito\n",
      "processing record 15 of set 4 | zhangjiakou\n",
      "processing record 16 of set 4 | wenling\n",
      "processing record 17 of set 4 | labutta\n",
      "labutta not found. Skipping...\n",
      "processing record 18 of set 4 | antsohihy\n",
      "processing record 19 of set 4 | arraial do cabo\n",
      "processing record 20 of set 4 | svetlogorsk\n",
      "processing record 21 of set 4 | tuktoyaktuk\n",
      "processing record 22 of set 4 | makakilo city\n",
      "processing record 23 of set 4 | kamenka\n",
      "processing record 24 of set 4 | fairbanks\n",
      "processing record 25 of set 4 | deogarh\n",
      "processing record 26 of set 4 | fukue\n",
      "processing record 27 of set 4 | samusu\n",
      "samusu not found. Skipping...\n",
      "processing record 28 of set 4 | cartagena\n",
      "processing record 29 of set 4 | puerto ayacucho\n",
      "processing record 30 of set 4 | roebourne\n",
      "processing record 31 of set 4 | hasaki\n",
      "processing record 32 of set 4 | saquena\n",
      "processing record 33 of set 4 | bilma\n",
      "processing record 34 of set 4 | mount isa\n",
      "processing record 35 of set 4 | usevya\n",
      "processing record 36 of set 4 | santa isabel\n"
     ]
    },
    {
     "name": "stdout",
     "output_type": "stream",
     "text": [
      "processing record 37 of set 4 | mogochin\n",
      "mogochin not found. Skipping...\n",
      "processing record 38 of set 4 | provideniya\n",
      "processing record 39 of set 4 | longyearbyen\n",
      "processing record 40 of set 4 | khonuu\n",
      "khonuu not found. Skipping...\n",
      "processing record 41 of set 4 | saint anthony\n",
      "processing record 42 of set 4 | anito\n",
      "processing record 43 of set 4 | kasongo\n",
      "processing record 44 of set 4 | saleaula\n",
      "saleaula not found. Skipping...\n",
      "processing record 45 of set 4 | umm lajj\n",
      "processing record 46 of set 4 | shahr-e kord\n",
      "processing record 47 of set 4 | port elizabeth\n",
      "processing record 48 of set 4 | serebryansk\n",
      "processing record 49 of set 4 | nicoya\n",
      "processing record 0 of set 5 | faanui\n",
      "processing record 1 of set 5 | progreso\n",
      "processing record 2 of set 5 | tumannyy\n",
      "tumannyy not found. Skipping...\n",
      "processing record 3 of set 5 | cockburn harbour\n",
      "cockburn harbour not found. Skipping...\n",
      "processing record 4 of set 5 | kurumkan\n",
      "processing record 5 of set 5 | ngukurr\n",
      "ngukurr not found. Skipping...\n",
      "processing record 6 of set 5 | qaqortoq\n",
      "processing record 7 of set 5 | batagay-alyta\n",
      "processing record 8 of set 5 | solsvik\n",
      "solsvik not found. Skipping...\n",
      "processing record 9 of set 5 | san patricio\n",
      "processing record 10 of set 5 | blonduos\n",
      "blonduos not found. Skipping...\n",
      "processing record 11 of set 5 | kaitangata\n",
      "processing record 12 of set 5 | paradwip\n",
      "paradwip not found. Skipping...\n",
      "processing record 13 of set 5 | grand river south east\n",
      "grand river south east not found. Skipping...\n",
      "processing record 14 of set 5 | algiers\n",
      "processing record 15 of set 5 | illoqqortoormiut\n",
      "illoqqortoormiut not found. Skipping...\n",
      "processing record 16 of set 5 | tasiilaq\n",
      "processing record 17 of set 5 | ambilobe\n",
      "processing record 18 of set 5 | richards bay\n",
      "processing record 19 of set 5 | lerwick\n",
      "processing record 20 of set 5 | port moresby\n",
      "processing record 21 of set 5 | sedelnikovo\n",
      "sedelnikovo not found. Skipping...\n",
      "processing record 22 of set 5 | cayenne\n",
      "processing record 23 of set 5 | yar-sale\n",
      "processing record 24 of set 5 | urengoy\n",
      "processing record 25 of set 5 | boa vista\n",
      "processing record 26 of set 5 | miramar\n",
      "processing record 27 of set 5 | aporawan\n",
      "aporawan not found. Skipping...\n",
      "processing record 28 of set 5 | sibolga\n",
      "processing record 29 of set 5 | mbekenyera\n",
      "processing record 30 of set 5 | ketchikan\n",
      "processing record 31 of set 5 | te anau\n",
      "processing record 32 of set 5 | aguimes\n",
      "processing record 33 of set 5 | trelew\n",
      "processing record 34 of set 5 | thompson\n",
      "processing record 35 of set 5 | qaanaaq\n",
      "processing record 36 of set 5 | hammerfest\n",
      "processing record 37 of set 5 | inhambupe\n",
      "processing record 38 of set 5 | port blair\n",
      "processing record 39 of set 5 | saskylakh\n",
      "processing record 40 of set 5 | quatre cocos\n",
      "processing record 41 of set 5 | wasilla\n",
      "processing record 42 of set 5 | russell\n",
      "processing record 43 of set 5 | huarmey\n",
      "processing record 44 of set 5 | kargil\n",
      "processing record 45 of set 5 | wuwei\n",
      "processing record 46 of set 5 | luderitz\n",
      "processing record 47 of set 5 | oriximina\n",
      "processing record 48 of set 5 | esso\n",
      "processing record 49 of set 5 | walvis bay\n",
      "processing record 0 of set 6 | bambous virieux\n",
      "processing record 1 of set 6 | nabire\n",
      "processing record 2 of set 6 | pemba\n",
      "processing record 3 of set 6 | baker city\n",
      "processing record 4 of set 6 | chaupimarca\n",
      "processing record 5 of set 6 | yirol\n",
      "yirol not found. Skipping...\n",
      "processing record 6 of set 6 | ahipara\n",
      "processing record 7 of set 6 | columbus\n",
      "processing record 8 of set 6 | amderma\n",
      "amderma not found. Skipping...\n",
      "processing record 9 of set 6 | carnarvon\n",
      "processing record 10 of set 6 | pacific grove\n",
      "processing record 11 of set 6 | kayerkan\n",
      "processing record 12 of set 6 | goderich\n",
      "processing record 13 of set 6 | kijang\n",
      "processing record 14 of set 6 | sechura\n",
      "processing record 15 of set 6 | porto walter\n",
      "processing record 16 of set 6 | haverfordwest\n",
      "processing record 17 of set 6 | norman wells\n",
      "processing record 18 of set 6 | selty\n",
      "processing record 19 of set 6 | metro\n",
      "processing record 20 of set 6 | urdzhar\n",
      "urdzhar not found. Skipping...\n",
      "processing record 21 of set 6 | port hedland\n",
      "processing record 22 of set 6 | lorengau\n",
      "processing record 23 of set 6 | mount gambier\n",
      "processing record 24 of set 6 | acapulco\n",
      "processing record 25 of set 6 | victoria\n",
      "processing record 26 of set 6 | ribeira grande\n",
      "processing record 27 of set 6 | tibu\n",
      "processing record 28 of set 6 | dekar\n",
      "processing record 29 of set 6 | bela cruz\n",
      "processing record 30 of set 6 | sisimiut\n",
      "processing record 31 of set 6 | rocha\n",
      "processing record 32 of set 6 | waingapu\n",
      "processing record 33 of set 6 | sorong\n",
      "processing record 34 of set 6 | kuminskiy\n",
      "processing record 35 of set 6 | pathein\n",
      "processing record 36 of set 6 | cayambe\n",
      "processing record 37 of set 6 | scottsbluff\n",
      "processing record 38 of set 6 | touros\n",
      "processing record 39 of set 6 | carbonia\n",
      "processing record 40 of set 6 | fuerte olimpo\n",
      "processing record 41 of set 6 | puerto quijarro\n",
      "processing record 42 of set 6 | abaza\n",
      "processing record 43 of set 6 | scarborough\n",
      "processing record 44 of set 6 | athabasca\n",
      "processing record 45 of set 6 | murray bridge\n",
      "processing record 46 of set 6 | araouane\n",
      "processing record 47 of set 6 | wanlaweyn\n",
      "processing record 48 of set 6 | zatoka\n",
      "processing record 49 of set 6 | bulgan\n",
      "processing record 0 of set 7 | beni suef\n",
      "processing record 1 of set 7 | pangkalanbuun\n",
      "processing record 2 of set 7 | port shepstone\n",
      "processing record 3 of set 7 | xining\n",
      "processing record 4 of set 7 | ancud\n",
      "processing record 5 of set 7 | tidore\n",
      "tidore not found. Skipping...\n",
      "processing record 6 of set 7 | port macquarie\n",
      "processing record 7 of set 7 | obzor\n",
      "processing record 8 of set 7 | khatanga\n",
      "processing record 9 of set 7 | yanchukan\n",
      "yanchukan not found. Skipping...\n",
      "processing record 10 of set 7 | mecca\n",
      "processing record 11 of set 7 | cabo rojo\n",
      "processing record 12 of set 7 | mandali\n",
      "processing record 13 of set 7 | saldanha\n",
      "processing record 14 of set 7 | kodiak\n",
      "processing record 15 of set 7 | gamba\n",
      "processing record 16 of set 7 | shubarshi\n",
      "processing record 17 of set 7 | camrose\n",
      "processing record 18 of set 7 | airai\n",
      "processing record 19 of set 7 | miri\n",
      "processing record 20 of set 7 | lagoa\n",
      "processing record 21 of set 7 | udachnyy\n",
      "processing record 22 of set 7 | gat\n",
      "processing record 23 of set 7 | vila velha\n",
      "processing record 24 of set 7 | margate\n",
      "processing record 25 of set 7 | lunenburg\n",
      "processing record 26 of set 7 | yeppoon\n",
      "processing record 27 of set 7 | lasa\n",
      "processing record 28 of set 7 | zhigalovo\n",
      "processing record 29 of set 7 | kasongo-lunda\n",
      "processing record 30 of set 7 | biak\n",
      "processing record 31 of set 7 | ilo\n",
      "processing record 32 of set 7 | santo angelo\n",
      "processing record 33 of set 7 | abu samrah\n",
      "processing record 34 of set 7 | sola\n",
      "processing record 35 of set 7 | keflavik\n",
      "processing record 36 of set 7 | vao\n",
      "processing record 37 of set 7 | lavrentiya\n",
      "processing record 38 of set 7 | vysokogornyy\n",
      "processing record 39 of set 7 | west wendover\n",
      "processing record 40 of set 7 | bengkulu\n",
      "processing record 41 of set 7 | saint-paul\n",
      "processing record 42 of set 7 | kruisfontein\n",
      "processing record 43 of set 7 | sao gotardo\n",
      "processing record 44 of set 7 | yushu\n",
      "processing record 45 of set 7 | aksu\n",
      "processing record 46 of set 7 | superior\n",
      "processing record 47 of set 7 | kaitong\n",
      "processing record 48 of set 7 | billings\n",
      "processing record 49 of set 7 | bathsheba\n",
      "processing record 0 of set 8 | bow island\n",
      "processing record 1 of set 8 | vaitupu\n",
      "vaitupu not found. Skipping...\n",
      "processing record 2 of set 8 | bandarbeyla\n",
      "processing record 3 of set 8 | nioro\n",
      "processing record 4 of set 8 | tres arroyos\n",
      "processing record 5 of set 8 | presidencia roque saenz pena\n",
      "processing record 6 of set 8 | vanimo\n",
      "processing record 7 of set 8 | bitung\n",
      "processing record 8 of set 8 | dingle\n",
      "processing record 9 of set 8 | gaoual\n",
      "processing record 10 of set 8 | ust-ordynskiy\n",
      "processing record 11 of set 8 | tochigi\n",
      "processing record 12 of set 8 | san vicente\n",
      "processing record 13 of set 8 | victoria point\n",
      "processing record 14 of set 8 | ostrovnoy\n",
      "processing record 15 of set 8 | baracoa\n",
      "processing record 16 of set 8 | mancio lima\n",
      "processing record 17 of set 8 | igatpuri\n",
      "processing record 18 of set 8 | natal\n",
      "processing record 19 of set 8 | turmalina\n"
     ]
    },
    {
     "name": "stdout",
     "output_type": "stream",
     "text": [
      "processing record 20 of set 8 | pravda\n",
      "processing record 21 of set 8 | moussoro\n",
      "processing record 22 of set 8 | ganzhou\n",
      "processing record 23 of set 8 | denau\n",
      "denau not found. Skipping...\n",
      "processing record 24 of set 8 | cisternino\n",
      "processing record 25 of set 8 | hunchun\n",
      "processing record 26 of set 8 | turka\n",
      "processing record 27 of set 8 | seymchan\n",
      "processing record 28 of set 8 | tarakan\n",
      "processing record 29 of set 8 | sarana\n",
      "processing record 30 of set 8 | jiayuguan\n",
      "processing record 31 of set 8 | asau\n",
      "processing record 32 of set 8 | almaznyy\n",
      "processing record 33 of set 8 | burnie\n",
      "processing record 34 of set 8 | kapit\n",
      "processing record 35 of set 8 | alofi\n",
      "processing record 36 of set 8 | bairiki\n",
      "processing record 37 of set 8 | bajo baudo\n",
      "bajo baudo not found. Skipping...\n",
      "processing record 38 of set 8 | cabo san lucas\n",
      "processing record 39 of set 8 | shu\n",
      "processing record 40 of set 8 | talakan\n",
      "processing record 41 of set 8 | makarov\n",
      "processing record 42 of set 8 | chicama\n",
      "processing record 43 of set 8 | dodola\n",
      "processing record 44 of set 8 | chagda\n",
      "chagda not found. Skipping...\n",
      "processing record 45 of set 8 | anderson\n",
      "processing record 46 of set 8 | kaniama\n",
      "processing record 47 of set 8 | aykhal\n",
      "processing record 48 of set 8 | wolmaranstad\n",
      "wolmaranstad not found. Skipping...\n",
      "processing record 49 of set 8 | ugoofaaru\n",
      "ugoofaaru not found. Skipping...\n",
      "processing record 0 of set 9 | atasu\n",
      "processing record 1 of set 9 | wanning\n",
      "processing record 2 of set 9 | zyryanka\n",
      "processing record 3 of set 9 | phalombe\n",
      "processing record 4 of set 9 | iqaluit\n",
      "processing record 5 of set 9 | saint-philippe\n",
      "processing record 6 of set 9 | diego de almagro\n",
      "processing record 7 of set 9 | evensk\n",
      "processing record 8 of set 9 | bull savanna\n",
      "processing record 9 of set 9 | uyuni\n",
      "processing record 10 of set 9 | moranbah\n",
      "processing record 11 of set 9 | atherton\n",
      "processing record 12 of set 9 | gulu\n",
      "processing record 13 of set 9 | penzance\n",
      "processing record 14 of set 9 | san cristobal\n",
      "processing record 15 of set 9 | kauhajoki\n",
      "processing record 16 of set 9 | narsaq\n",
      "processing record 17 of set 9 | nicolas bravo\n",
      "processing record 18 of set 9 | kachug\n",
      "processing record 19 of set 9 | mount pleasant\n",
      "processing record 20 of set 9 | meyungs\n",
      "meyungs not found. Skipping...\n",
      "processing record 21 of set 9 | chato\n",
      "processing record 22 of set 9 | ucluelet\n",
      "processing record 23 of set 9 | tarrafal\n",
      "processing record 24 of set 9 | the valley\n",
      "processing record 25 of set 9 | kysyl-syr\n",
      "processing record 26 of set 9 | phatthalung\n",
      "processing record 27 of set 9 | buta\n",
      "processing record 28 of set 9 | gander\n",
      "processing record 29 of set 9 | uvat\n",
      "processing record 30 of set 9 | kazachinskoye\n",
      "processing record 31 of set 9 | luyang\n",
      "processing record 32 of set 9 | morgan city\n",
      "processing record 33 of set 9 | general roca\n",
      "processing record 34 of set 9 | berlevag\n",
      "processing record 35 of set 9 | dubovskoye\n",
      "processing record 36 of set 9 | les cayes\n",
      "processing record 37 of set 9 | bati\n",
      "processing record 38 of set 9 | grand gaube\n",
      "processing record 39 of set 9 | dukat\n",
      "processing record 40 of set 9 | tula\n",
      "processing record 41 of set 9 | pochutla\n",
      "processing record 42 of set 9 | isangel\n",
      "processing record 43 of set 9 | slave lake\n",
      "processing record 44 of set 9 | paita\n",
      "processing record 45 of set 9 | angoram\n",
      "processing record 46 of set 9 | qurunbaliyah\n",
      "qurunbaliyah not found. Skipping...\n",
      "processing record 47 of set 9 | palabuhanratu\n",
      "palabuhanratu not found. Skipping...\n",
      "processing record 48 of set 9 | punuare\n",
      "processing record 49 of set 9 | ola\n",
      "processing record 0 of set 10 | katangli\n",
      "processing record 1 of set 10 | bolungarvik\n",
      "bolungarvik not found. Skipping...\n",
      "processing record 2 of set 10 | tual\n",
      "processing record 3 of set 10 | constitucion\n",
      "processing record 4 of set 10 | ridgecrest\n",
      "processing record 5 of set 10 | matamoros\n",
      "processing record 6 of set 10 | warqla\n",
      "warqla not found. Skipping...\n",
      "processing record 7 of set 10 | yarada\n",
      "processing record 8 of set 10 | udalo\n",
      "udalo not found. Skipping...\n",
      "processing record 9 of set 10 | aktau\n",
      "processing record 10 of set 10 | humboldt\n",
      "processing record 11 of set 10 | lata\n",
      "processing record 12 of set 10 | saint george\n",
      "processing record 13 of set 10 | hinton\n",
      "processing record 14 of set 10 | tasbuget\n",
      "tasbuget not found. Skipping...\n",
      "processing record 15 of set 10 | anshun\n",
      "processing record 16 of set 10 | hualmay\n",
      "processing record 17 of set 10 | muroto\n",
      "processing record 18 of set 10 | antofagasta\n",
      "processing record 19 of set 10 | bundaberg\n",
      "processing record 20 of set 10 | rongcheng\n",
      "processing record 21 of set 10 | oistins\n",
      "processing record 22 of set 10 | xai-xai\n",
      "processing record 23 of set 10 | mitsamiouli\n",
      "processing record 24 of set 10 | chipinge\n",
      "processing record 25 of set 10 | sarangani\n",
      "processing record 26 of set 10 | ardmore\n",
      "processing record 27 of set 10 | sawtell\n",
      "processing record 28 of set 10 | goroka\n",
      "processing record 29 of set 10 | muros\n",
      "processing record 30 of set 10 | atlantic city\n",
      "processing record 31 of set 10 | lolua\n",
      "lolua not found. Skipping...\n",
      "processing record 32 of set 10 | augusto correa\n",
      "processing record 33 of set 10 | inhambane\n",
      "processing record 34 of set 10 | bokspits\n",
      "bokspits not found. Skipping...\n",
      "processing record 35 of set 10 | chilca\n",
      "processing record 36 of set 10 | talnakh\n",
      "processing record 37 of set 10 | santa vitoria do palmar\n",
      "processing record 38 of set 10 | strelka\n",
      "processing record 39 of set 10 | hami\n",
      "processing record 40 of set 10 | kuche\n",
      "kuche not found. Skipping...\n",
      "processing record 41 of set 10 | gazli\n",
      "processing record 42 of set 10 | omboue\n",
      "processing record 43 of set 10 | mattru\n",
      "processing record 44 of set 10 | chapais\n",
      "processing record 45 of set 10 | bac lieu\n",
      "processing record 46 of set 10 | umzimvubu\n",
      "umzimvubu not found. Skipping...\n",
      "processing record 47 of set 10 | sept-iles\n",
      "processing record 48 of set 10 | tsihombe\n",
      "tsihombe not found. Skipping...\n",
      "processing record 49 of set 10 | soltsy\n",
      "processing record 0 of set 11 | ayios matthaios\n",
      "ayios matthaios not found. Skipping...\n",
      "processing record 1 of set 11 | porto novo\n",
      "processing record 2 of set 11 | boyuibe\n",
      "processing record 3 of set 11 | conde\n",
      "processing record 4 of set 11 | beringovskiy\n",
      "processing record 5 of set 11 | zhigansk\n",
      "processing record 6 of set 11 | lubbock\n",
      "processing record 7 of set 11 | acarau\n",
      "processing record 8 of set 11 | martaban\n",
      "processing record 9 of set 11 | port said\n",
      "processing record 10 of set 11 | baykit\n",
      "processing record 11 of set 11 | prince rupert\n",
      "processing record 12 of set 11 | port lincoln\n",
      "processing record 13 of set 11 | kashi\n",
      "processing record 14 of set 11 | birao\n",
      "processing record 15 of set 11 | hamilton\n",
      "processing record 16 of set 11 | amapa\n",
      "processing record 17 of set 11 | egvekinot\n",
      "processing record 18 of set 11 | eskasem\n",
      "eskasem not found. Skipping...\n",
      "processing record 19 of set 11 | tallahassee\n",
      "processing record 20 of set 11 | mareeba\n",
      "processing record 21 of set 11 | moissala\n",
      "processing record 22 of set 11 | opuwo\n",
      "processing record 23 of set 11 | grand-santi\n",
      "processing record 24 of set 11 | micheweni\n",
      "processing record 25 of set 11 | posse\n",
      "processing record 26 of set 11 | mumford\n",
      "processing record 27 of set 11 | lafia\n",
      "processing record 28 of set 11 | neiafu\n",
      "processing record 29 of set 11 | cazaje\n",
      "cazaje not found. Skipping...\n",
      "processing record 30 of set 11 | gizo\n",
      "processing record 31 of set 11 | el ocotito\n",
      "processing record 32 of set 11 | flinders\n",
      "processing record 33 of set 11 | bamboo\n",
      "processing record 34 of set 11 | baijiantan\n",
      "processing record 35 of set 11 | poronaysk\n",
      "processing record 36 of set 11 | tuatapere\n",
      "processing record 37 of set 11 | puerto escondido\n",
      "processing record 38 of set 11 | narbonne\n",
      "processing record 39 of set 11 | sabang\n",
      "processing record 40 of set 11 | los llanos de aridane\n",
      "processing record 41 of set 11 | camocim\n",
      "processing record 42 of set 11 | bosaso\n",
      "processing record 43 of set 11 | pangoa\n",
      "processing record 44 of set 11 | koutsouras\n",
      "processing record 45 of set 11 | rakke\n",
      "processing record 46 of set 11 | hangha\n",
      "processing record 47 of set 11 | edendale\n",
      "processing record 48 of set 11 | myski\n",
      "processing record 49 of set 11 | aswan\n",
      "processing record 0 of set 12 | jiddah\n",
      "jiddah not found. Skipping...\n",
      "processing record 1 of set 12 | moose factory\n"
     ]
    },
    {
     "name": "stdout",
     "output_type": "stream",
     "text": [
      "processing record 2 of set 12 | tocopilla\n",
      "processing record 3 of set 12 | terenos\n",
      "processing record 4 of set 12 | korla\n",
      "processing record 5 of set 12 | fereydun kenar\n",
      "processing record 6 of set 12 | vila franca do campo\n",
      "processing record 7 of set 12 | nemuro\n",
      "processing record 8 of set 12 | lagos\n",
      "processing record 9 of set 12 | san quintin\n",
      "processing record 10 of set 12 | babanusah\n",
      "babanusah not found. Skipping...\n",
      "processing record 11 of set 12 | kathmandu\n",
      "processing record 12 of set 12 | longyan\n",
      "processing record 13 of set 12 | vieques\n",
      "processing record 14 of set 12 | awjilah\n",
      "processing record 15 of set 12 | sakakah\n",
      "processing record 16 of set 12 | erenhot\n",
      "processing record 17 of set 12 | liverpool\n",
      "processing record 18 of set 12 | gardan diwal\n",
      "gardan diwal not found. Skipping...\n",
      "processing record 19 of set 12 | monterey\n",
      "processing record 20 of set 12 | launceston\n",
      "processing record 21 of set 12 | pitimbu\n",
      "processing record 22 of set 12 | cabedelo\n",
      "processing record 23 of set 12 | vera cruz\n",
      "processing record 24 of set 12 | methoni\n",
      "processing record 25 of set 12 | samarai\n",
      "processing record 26 of set 12 | bethanien\n",
      "processing record 27 of set 12 | mackay\n",
      "processing record 28 of set 12 | hounde\n",
      "processing record 29 of set 12 | qasigiannguit\n",
      "processing record 30 of set 12 | himora\n",
      "himora not found. Skipping...\n",
      "processing record 31 of set 12 | parral\n",
      "processing record 32 of set 12 | ceres\n",
      "processing record 33 of set 12 | tunduru\n",
      "tunduru not found. Skipping...\n",
      "processing record 34 of set 12 | moree\n",
      "processing record 35 of set 12 | chumikan\n",
      "processing record 36 of set 12 | trairi\n",
      "processing record 37 of set 12 | lebowakgomo\n",
      "processing record 38 of set 12 | vesyegonsk\n",
      "processing record 39 of set 12 | sukhodol\n",
      "processing record 40 of set 12 | karkaralinsk\n",
      "karkaralinsk not found. Skipping...\n",
      "processing record 41 of set 12 | rungata\n",
      "rungata not found. Skipping...\n",
      "processing record 42 of set 12 | srednekolymsk\n",
      "processing record 43 of set 12 | chateauroux\n",
      "processing record 44 of set 12 | namatanai\n",
      "processing record 45 of set 12 | cherskiy\n",
      "processing record 46 of set 12 | kupino\n",
      "processing record 47 of set 12 | maceio\n",
      "processing record 48 of set 12 | kamaishi\n",
      "processing record 49 of set 12 | rio gallegos\n",
      "processing record 0 of set 13 | acari\n",
      "processing record 1 of set 13 | sentyabrskiy\n",
      "sentyabrskiy not found. Skipping...\n",
      "processing record 2 of set 13 | hambantota\n",
      "processing record 3 of set 13 | lins\n",
      "processing record 4 of set 13 | mandal\n",
      "processing record 5 of set 13 | kuryk\n",
      "processing record 6 of set 13 | camacha\n",
      "processing record 7 of set 13 | nyurba\n",
      "processing record 8 of set 13 | oksfjord\n",
      "processing record 9 of set 13 | sungaipenuh\n",
      "processing record 10 of set 13 | kon tum\n",
      "processing record 11 of set 13 | hunza\n",
      "hunza not found. Skipping...\n",
      "processing record 12 of set 13 | miyako\n",
      "processing record 13 of set 13 | amherstburg\n",
      "processing record 14 of set 13 | sehithwa\n",
      "processing record 15 of set 13 | sambava\n",
      "processing record 16 of set 13 | tautira\n",
      "processing record 17 of set 13 | grand forks\n",
      "processing record 18 of set 13 | aksarka\n",
      "processing record 19 of set 13 | doka\n",
      "processing record 20 of set 13 | arlit\n",
      "processing record 21 of set 13 | sioux lookout\n",
      "processing record 22 of set 13 | yuanping\n",
      "processing record 23 of set 13 | buritis\n",
      "processing record 24 of set 13 | sinnamary\n",
      "processing record 25 of set 13 | pailon\n",
      "processing record 26 of set 13 | hagenow\n",
      "processing record 27 of set 13 | bur gabo\n",
      "bur gabo not found. Skipping...\n",
      "processing record 28 of set 13 | auki\n",
      "processing record 29 of set 13 | irbeyskoye\n",
      "processing record 30 of set 13 | oskarshamn\n",
      "processing record 31 of set 13 | mehran\n",
      "processing record 32 of set 13 | pozo colorado\n",
      "processing record 33 of set 13 | pengkalan kundang\n",
      "pengkalan kundang not found. Skipping...\n",
      "processing record 34 of set 13 | guerrero negro\n",
      "processing record 35 of set 13 | bakchar\n",
      "processing record 36 of set 13 | yumen\n",
      "processing record 37 of set 13 | whyalla\n",
      "processing record 38 of set 13 | komsomolskiy\n",
      "processing record 39 of set 13 | yerbogachen\n",
      "processing record 40 of set 13 | klyuchi\n",
      "processing record 41 of set 13 | porto belo\n"
     ]
    }
   ],
   "source": [
    "#openweather API base of request url\n",
    "url = 'http://api.openweathermap.org/data/2.5/weather?units=imperial&appid=' + weather_api_key + '&q=' \n",
    "\n",
    "cityData = []\n",
    "set_count = 1    #group\n",
    "record = 1       #record within group\n",
    "\n",
    "print(f'Beginning Data Retrieval')\n",
    "print(f'----------------------------')\n",
    "\n",
    "for i, city in enumerate(cities):\n",
    "    if(i % 50 == 0 and i >= 50):   #if a set hits 50 records...\n",
    "        set_count += 1       #make new group\n",
    "        record = 0           #reset records in the group \n",
    "        \n",
    "#output record and group being processed\n",
    "    print(f'processing record {record} of set {set_count} | {city}')       \n",
    "     \n",
    "    record += 1\n",
    "\n",
    "#make request url     \n",
    "    cityurl = url + city\n",
    "\n",
    "#use json to extract data for each city, use geopy for country code, and append all to list    \n",
    "    try:\n",
    "        cityWeather = requests.get(cityurl).json()\n",
    "        lat = cityWeather['coord']['lat']\n",
    "        lon = cityWeather['coord']['lon']\n",
    "        maxTemp = cityWeather['main']['temp_max']\n",
    "        humidity = cityWeather['main']['humidity']\n",
    "        cloudiness = cityWeather['clouds']['all']\n",
    "        windSpeed = cityWeather['wind']['speed']\n",
    "        date = cityWeather['dt']\n",
    "        geolocator = Nominatim(user_agent=\"python_api_project\")\n",
    "        location = geolocator.reverse(str(lat)+\",\"+str(lon))\n",
    "        address = location.raw['address']\n",
    "        country_code = address.get('country_code').upper()\n",
    "        \n",
    "        cityData.append({'City':city, 'Country': country_code, 'Lat':lat, 'Lng':lon, 'Max Temp': maxTemp, \n",
    "                         'Humidity':humidity, 'Cloudiness':cloudiness, 'Wind Speed':windSpeed,\n",
    "                        'Date':date})\n",
    "       \n",
    "    except:\n",
    "        print(f'{city} not found. Skipping...')\n",
    "\n",
    "    "
   ]
  },
  {
   "cell_type": "markdown",
   "metadata": {},
   "source": [
    "### Convert Raw Data to DataFrame\n",
    "* Export the city data into a .csv.\n",
    "* Display the DataFrame"
   ]
  },
  {
   "cell_type": "code",
   "execution_count": 57,
   "metadata": {},
   "outputs": [
    {
     "data": {
      "text/html": [
       "<div>\n",
       "<style scoped>\n",
       "    .dataframe tbody tr th:only-of-type {\n",
       "        vertical-align: middle;\n",
       "    }\n",
       "\n",
       "    .dataframe tbody tr th {\n",
       "        vertical-align: top;\n",
       "    }\n",
       "\n",
       "    .dataframe thead th {\n",
       "        text-align: right;\n",
       "    }\n",
       "</style>\n",
       "<table border=\"1\" class=\"dataframe\">\n",
       "  <thead>\n",
       "    <tr style=\"text-align: right;\">\n",
       "      <th></th>\n",
       "      <th>City</th>\n",
       "      <th>Country</th>\n",
       "      <th>Lat</th>\n",
       "      <th>Lng</th>\n",
       "      <th>Max Temp</th>\n",
       "      <th>Humidity</th>\n",
       "      <th>Cloudiness</th>\n",
       "      <th>Wind Speed</th>\n",
       "      <th>Date</th>\n",
       "    </tr>\n",
       "  </thead>\n",
       "  <tbody>\n",
       "    <tr>\n",
       "      <th>0</th>\n",
       "      <td>cape town</td>\n",
       "      <td>ZA</td>\n",
       "      <td>-33.9258</td>\n",
       "      <td>18.4232</td>\n",
       "      <td>57.99</td>\n",
       "      <td>94</td>\n",
       "      <td>0</td>\n",
       "      <td>3.44</td>\n",
       "      <td>1619211557</td>\n",
       "    </tr>\n",
       "    <tr>\n",
       "      <th>1</th>\n",
       "      <td>coruripe</td>\n",
       "      <td>BR</td>\n",
       "      <td>-10.1256</td>\n",
       "      <td>-36.1756</td>\n",
       "      <td>78.80</td>\n",
       "      <td>79</td>\n",
       "      <td>54</td>\n",
       "      <td>8.43</td>\n",
       "      <td>1619211557</td>\n",
       "    </tr>\n",
       "    <tr>\n",
       "      <th>2</th>\n",
       "      <td>adrar</td>\n",
       "      <td>MR</td>\n",
       "      <td>20.5022</td>\n",
       "      <td>-10.0711</td>\n",
       "      <td>83.97</td>\n",
       "      <td>8</td>\n",
       "      <td>0</td>\n",
       "      <td>7.74</td>\n",
       "      <td>1619211558</td>\n",
       "    </tr>\n",
       "    <tr>\n",
       "      <th>3</th>\n",
       "      <td>great yarmouth</td>\n",
       "      <td>GB</td>\n",
       "      <td>52.6083</td>\n",
       "      <td>1.7305</td>\n",
       "      <td>45.00</td>\n",
       "      <td>61</td>\n",
       "      <td>69</td>\n",
       "      <td>3.44</td>\n",
       "      <td>1619211558</td>\n",
       "    </tr>\n",
       "    <tr>\n",
       "      <th>4</th>\n",
       "      <td>hobart</td>\n",
       "      <td>AU</td>\n",
       "      <td>-42.8794</td>\n",
       "      <td>147.3294</td>\n",
       "      <td>51.80</td>\n",
       "      <td>71</td>\n",
       "      <td>40</td>\n",
       "      <td>10.36</td>\n",
       "      <td>1619211559</td>\n",
       "    </tr>\n",
       "  </tbody>\n",
       "</table>\n",
       "</div>"
      ],
      "text/plain": [
       "             City Country      Lat       Lng  Max Temp  Humidity  Cloudiness  \\\n",
       "0       cape town      ZA -33.9258   18.4232     57.99        94           0   \n",
       "1        coruripe      BR -10.1256  -36.1756     78.80        79          54   \n",
       "2           adrar      MR  20.5022  -10.0711     83.97         8           0   \n",
       "3  great yarmouth      GB  52.6083    1.7305     45.00        61          69   \n",
       "4          hobart      AU -42.8794  147.3294     51.80        71          40   \n",
       "\n",
       "   Wind Speed        Date  \n",
       "0        3.44  1619211557  \n",
       "1        8.43  1619211557  \n",
       "2        7.74  1619211558  \n",
       "3        3.44  1619211558  \n",
       "4       10.36  1619211559  "
      ]
     },
     "execution_count": 57,
     "metadata": {},
     "output_type": "execute_result"
    }
   ],
   "source": [
    "cityData_pd = pd.DataFrame(cityData)\n",
    "cityData_pd.to_csv(output_data_file)\n",
    "cityData_pd.head()"
   ]
  },
  {
   "cell_type": "code",
   "execution_count": 58,
   "metadata": {},
   "outputs": [
    {
     "data": {
      "text/html": [
       "<div>\n",
       "<style scoped>\n",
       "    .dataframe tbody tr th:only-of-type {\n",
       "        vertical-align: middle;\n",
       "    }\n",
       "\n",
       "    .dataframe tbody tr th {\n",
       "        vertical-align: top;\n",
       "    }\n",
       "\n",
       "    .dataframe thead th {\n",
       "        text-align: right;\n",
       "    }\n",
       "</style>\n",
       "<table border=\"1\" class=\"dataframe\">\n",
       "  <thead>\n",
       "    <tr style=\"text-align: right;\">\n",
       "      <th></th>\n",
       "      <th>Lat</th>\n",
       "      <th>Lng</th>\n",
       "      <th>Max Temp</th>\n",
       "      <th>Humidity</th>\n",
       "      <th>Cloudiness</th>\n",
       "      <th>Wind Speed</th>\n",
       "      <th>Date</th>\n",
       "    </tr>\n",
       "  </thead>\n",
       "  <tbody>\n",
       "    <tr>\n",
       "      <th>count</th>\n",
       "      <td>576.000000</td>\n",
       "      <td>576.000000</td>\n",
       "      <td>576.000000</td>\n",
       "      <td>576.000000</td>\n",
       "      <td>576.000000</td>\n",
       "      <td>576.000000</td>\n",
       "      <td>5.760000e+02</td>\n",
       "    </tr>\n",
       "    <tr>\n",
       "      <th>mean</th>\n",
       "      <td>18.746022</td>\n",
       "      <td>17.272915</td>\n",
       "      <td>60.650851</td>\n",
       "      <td>69.059028</td>\n",
       "      <td>55.399306</td>\n",
       "      <td>7.852240</td>\n",
       "      <td>1.619212e+09</td>\n",
       "    </tr>\n",
       "    <tr>\n",
       "      <th>std</th>\n",
       "      <td>33.191779</td>\n",
       "      <td>90.902600</td>\n",
       "      <td>20.251980</td>\n",
       "      <td>23.257799</td>\n",
       "      <td>38.179124</td>\n",
       "      <td>5.234072</td>\n",
       "      <td>1.141133e+02</td>\n",
       "    </tr>\n",
       "    <tr>\n",
       "      <th>min</th>\n",
       "      <td>-54.800000</td>\n",
       "      <td>-179.166700</td>\n",
       "      <td>-6.410000</td>\n",
       "      <td>5.000000</td>\n",
       "      <td>0.000000</td>\n",
       "      <td>0.290000</td>\n",
       "      <td>1.619211e+09</td>\n",
       "    </tr>\n",
       "    <tr>\n",
       "      <th>25%</th>\n",
       "      <td>-9.168000</td>\n",
       "      <td>-63.114175</td>\n",
       "      <td>46.400000</td>\n",
       "      <td>56.000000</td>\n",
       "      <td>20.000000</td>\n",
       "      <td>4.037500</td>\n",
       "      <td>1.619212e+09</td>\n",
       "    </tr>\n",
       "    <tr>\n",
       "      <th>50%</th>\n",
       "      <td>20.424450</td>\n",
       "      <td>22.908950</td>\n",
       "      <td>63.910000</td>\n",
       "      <td>76.000000</td>\n",
       "      <td>65.000000</td>\n",
       "      <td>6.910000</td>\n",
       "      <td>1.619212e+09</td>\n",
       "    </tr>\n",
       "    <tr>\n",
       "      <th>75%</th>\n",
       "      <td>47.057000</td>\n",
       "      <td>100.146325</td>\n",
       "      <td>78.010000</td>\n",
       "      <td>87.000000</td>\n",
       "      <td>95.000000</td>\n",
       "      <td>10.360000</td>\n",
       "      <td>1.619212e+09</td>\n",
       "    </tr>\n",
       "    <tr>\n",
       "      <th>max</th>\n",
       "      <td>78.218600</td>\n",
       "      <td>179.316700</td>\n",
       "      <td>98.010000</td>\n",
       "      <td>100.000000</td>\n",
       "      <td>100.000000</td>\n",
       "      <td>33.640000</td>\n",
       "      <td>1.619212e+09</td>\n",
       "    </tr>\n",
       "  </tbody>\n",
       "</table>\n",
       "</div>"
      ],
      "text/plain": [
       "              Lat         Lng    Max Temp    Humidity  Cloudiness  Wind Speed  \\\n",
       "count  576.000000  576.000000  576.000000  576.000000  576.000000  576.000000   \n",
       "mean    18.746022   17.272915   60.650851   69.059028   55.399306    7.852240   \n",
       "std     33.191779   90.902600   20.251980   23.257799   38.179124    5.234072   \n",
       "min    -54.800000 -179.166700   -6.410000    5.000000    0.000000    0.290000   \n",
       "25%     -9.168000  -63.114175   46.400000   56.000000   20.000000    4.037500   \n",
       "50%     20.424450   22.908950   63.910000   76.000000   65.000000    6.910000   \n",
       "75%     47.057000  100.146325   78.010000   87.000000   95.000000   10.360000   \n",
       "max     78.218600  179.316700   98.010000  100.000000  100.000000   33.640000   \n",
       "\n",
       "               Date  \n",
       "count  5.760000e+02  \n",
       "mean   1.619212e+09  \n",
       "std    1.141133e+02  \n",
       "min    1.619211e+09  \n",
       "25%    1.619212e+09  \n",
       "50%    1.619212e+09  \n",
       "75%    1.619212e+09  \n",
       "max    1.619212e+09  "
      ]
     },
     "execution_count": 58,
     "metadata": {},
     "output_type": "execute_result"
    }
   ],
   "source": [
    "#.describe() summary stats\n",
    "\n",
    "cityDataStats_pd = cityData_pd.drop(columns=['City', 'Country'])\n",
    "cityDataStats_pd.describe(datetime_is_numeric=True)"
   ]
  },
  {
   "cell_type": "markdown",
   "metadata": {},
   "source": [
    "## Inspect the data and remove the cities where the humidity > 100%.\n",
    "----\n",
    "Skip this step if there are no cities that have humidity > 100%. "
   ]
  },
  {
   "cell_type": "code",
   "execution_count": 60,
   "metadata": {},
   "outputs": [
    {
     "data": {
      "text/html": [
       "<div>\n",
       "<style scoped>\n",
       "    .dataframe tbody tr th:only-of-type {\n",
       "        vertical-align: middle;\n",
       "    }\n",
       "\n",
       "    .dataframe tbody tr th {\n",
       "        vertical-align: top;\n",
       "    }\n",
       "\n",
       "    .dataframe thead th {\n",
       "        text-align: right;\n",
       "    }\n",
       "</style>\n",
       "<table border=\"1\" class=\"dataframe\">\n",
       "  <thead>\n",
       "    <tr style=\"text-align: right;\">\n",
       "      <th></th>\n",
       "      <th>City</th>\n",
       "      <th>Country</th>\n",
       "      <th>Lat</th>\n",
       "      <th>Lng</th>\n",
       "      <th>Max Temp</th>\n",
       "      <th>Humidity</th>\n",
       "      <th>Cloudiness</th>\n",
       "      <th>Wind Speed</th>\n",
       "      <th>Date</th>\n",
       "    </tr>\n",
       "  </thead>\n",
       "  <tbody>\n",
       "    <tr>\n",
       "      <th>0</th>\n",
       "      <td>cape town</td>\n",
       "      <td>ZA</td>\n",
       "      <td>-33.9258</td>\n",
       "      <td>18.4232</td>\n",
       "      <td>57.99</td>\n",
       "      <td>94</td>\n",
       "      <td>0</td>\n",
       "      <td>3.44</td>\n",
       "      <td>1619211557</td>\n",
       "    </tr>\n",
       "    <tr>\n",
       "      <th>1</th>\n",
       "      <td>coruripe</td>\n",
       "      <td>BR</td>\n",
       "      <td>-10.1256</td>\n",
       "      <td>-36.1756</td>\n",
       "      <td>78.80</td>\n",
       "      <td>79</td>\n",
       "      <td>54</td>\n",
       "      <td>8.43</td>\n",
       "      <td>1619211557</td>\n",
       "    </tr>\n",
       "    <tr>\n",
       "      <th>2</th>\n",
       "      <td>adrar</td>\n",
       "      <td>MR</td>\n",
       "      <td>20.5022</td>\n",
       "      <td>-10.0711</td>\n",
       "      <td>83.97</td>\n",
       "      <td>8</td>\n",
       "      <td>0</td>\n",
       "      <td>7.74</td>\n",
       "      <td>1619211558</td>\n",
       "    </tr>\n",
       "    <tr>\n",
       "      <th>3</th>\n",
       "      <td>great yarmouth</td>\n",
       "      <td>GB</td>\n",
       "      <td>52.6083</td>\n",
       "      <td>1.7305</td>\n",
       "      <td>45.00</td>\n",
       "      <td>61</td>\n",
       "      <td>69</td>\n",
       "      <td>3.44</td>\n",
       "      <td>1619211558</td>\n",
       "    </tr>\n",
       "    <tr>\n",
       "      <th>4</th>\n",
       "      <td>hobart</td>\n",
       "      <td>AU</td>\n",
       "      <td>-42.8794</td>\n",
       "      <td>147.3294</td>\n",
       "      <td>51.80</td>\n",
       "      <td>71</td>\n",
       "      <td>40</td>\n",
       "      <td>10.36</td>\n",
       "      <td>1619211559</td>\n",
       "    </tr>\n",
       "  </tbody>\n",
       "</table>\n",
       "</div>"
      ],
      "text/plain": [
       "             City Country      Lat       Lng  Max Temp  Humidity  Cloudiness  \\\n",
       "0       cape town      ZA -33.9258   18.4232     57.99        94           0   \n",
       "1        coruripe      BR -10.1256  -36.1756     78.80        79          54   \n",
       "2           adrar      MR  20.5022  -10.0711     83.97         8           0   \n",
       "3  great yarmouth      GB  52.6083    1.7305     45.00        61          69   \n",
       "4          hobart      AU -42.8794  147.3294     51.80        71          40   \n",
       "\n",
       "   Wind Speed        Date  \n",
       "0        3.44  1619211557  \n",
       "1        8.43  1619211557  \n",
       "2        7.74  1619211558  \n",
       "3        3.44  1619211558  \n",
       "4       10.36  1619211559  "
      ]
     },
     "execution_count": 60,
     "metadata": {},
     "output_type": "execute_result"
    }
   ],
   "source": [
    "#get loc on cities that have humidity <= 100% and create clean DataFrame\n",
    "#note: this was much cleaner than identifying rows by index and dropping to get a clean DataFrame\n",
    "#note: the max humidity is 100, but this is a good exercise regardless\n",
    "\n",
    "cityDataClean_pd = pd.DataFrame()\n",
    "cityDataClean_pd = cityData_pd.loc[cityData_pd['Humidity'] <= 100]\n",
    "\n",
    "cityDataClean_pd.head()\n",
    "        "
   ]
  },
  {
   "cell_type": "markdown",
   "metadata": {},
   "source": [
    "## Plotting the Data\n",
    "* Use proper labeling of the plots using plot titles (including date of analysis) and axes labels.\n",
    "* Save the plotted figures as .pngs."
   ]
  },
  {
   "cell_type": "markdown",
   "metadata": {},
   "source": [
    "## Latitude vs. Temperature Plot"
   ]
  },
  {
   "cell_type": "code",
   "execution_count": 92,
   "metadata": {
    "scrolled": true
   },
   "outputs": [
    {
     "data": {
      "image/png": "[encoded data removed]",
      "text/plain": [
       "<Figure size 432x288 with 1 Axes>"
      ]
     },
     "metadata": {
      "needs_background": "light"
     },
     "output_type": "display_data"
    }
   ],
   "source": [
    "plt.grid()\n",
    "plt.ylim(-20, 100)\n",
    "plt.xlim(-90, 90)\n",
    "plt.xlabel('Latitude')\n",
    "plt.ylabel('Max temperature (F)')\n",
    "plt.title('City Latitude vs Max Temperature (4/23/21)') \n",
    "plt.scatter(cityDataClean_pd['Lat'], cityDataClean_pd['Max Temp'], marker='o', facecolors='blue', edgecolors='black')\n",
    "plt.savefig(\"output_data/City_Latitude_vs_Max_Temperature_4-23-21.png\")"
   ]
  },
  {
   "cell_type": "markdown",
   "metadata": {},
   "source": [
    "## Latitude vs. Humidity Plot"
   ]
  },
  {
   "cell_type": "code",
   "execution_count": 93,
   "metadata": {},
   "outputs": [
    {
     "data": {
      "image/png": "[encoded data removed]",
      "text/plain": [
       "<Figure size 432x288 with 1 Axes>"
      ]
     },
     "metadata": {
      "needs_background": "light"
     },
     "output_type": "display_data"
    }
   ],
   "source": [
    "plt.grid()\n",
    "plt.ylim(0, 105)\n",
    "plt.xlim(-90, 90)\n",
    "plt.xlabel('Latitude')\n",
    "plt.ylabel('Humidity (%)')\n",
    "plt.title('City Latitude vs Humidity (4/23/21)') \n",
    "plt.scatter(cityDataClean_pd['Lat'], cityDataClean_pd['Humidity'], marker='o', facecolors='blue', edgecolors='black')\n",
    "plt.savefig(\"output_data/City_Latitude_vs_Humidity_4-23-21.png\")"
   ]
  },
  {
   "cell_type": "markdown",
   "metadata": {},
   "source": [
    "## Latitude vs. Cloudiness Plot"
   ]
  },
  {
   "cell_type": "code",
   "execution_count": 94,
   "metadata": {},
   "outputs": [
    {
     "data": {
      "image/png": "[encoded data removed]",
      "text/plain": [
       "<Figure size 432x288 with 1 Axes>"
      ]
     },
     "metadata": {
      "needs_background": "light"
     },
     "output_type": "display_data"
    }
   ],
   "source": [
    "plt.grid()\n",
    "plt.ylim(0, 105)\n",
    "plt.xlim(-90, 90)\n",
    "plt.xlabel('Latitude')\n",
    "plt.ylabel('Cloudiness (%)')\n",
    "plt.title('City Latitude vs Cloudiness (4/23/21)') \n",
    "plt.scatter(cityDataClean_pd['Lat'], cityDataClean_pd['Cloudiness'], marker='o', facecolors='blue', edgecolors='black')\n",
    "plt.savefig(\"output_data/City_Latitude_vs_Cloudiness_4-23-21.png\")"
   ]
  },
  {
   "cell_type": "markdown",
   "metadata": {},
   "source": [
    "## Latitude vs. Wind Speed Plot"
   ]
  },
  {
   "cell_type": "code",
   "execution_count": 95,
   "metadata": {},
   "outputs": [
    {
     "data": {
      "image/png": "[encoded data removed]",
      "text/plain": [
       "<Figure size 432x288 with 1 Axes>"
      ]
     },
     "metadata": {
      "needs_background": "light"
     },
     "output_type": "display_data"
    }
   ],
   "source": [
    "plt.grid()\n",
    "plt.ylim(0, 50)\n",
    "plt.xlim(-90, 90)\n",
    "plt.xlabel('Latitude')\n",
    "plt.ylabel('Wind Speed (MPH)')\n",
    "plt.title('City Latitude vs Wind Speed (4/23/21)') \n",
    "plt.scatter(cityDataClean_pd['Lat'], cityDataClean_pd['Wind Speed'], marker='o', facecolors='blue', edgecolors='black')\n",
    "plt.savefig(\"output_data/City_Latitude_vs_Wind_Speed_4-23-21.png\")"
   ]
  },
  {
   "cell_type": "markdown",
   "metadata": {},
   "source": [
    "## Linear Regression"
   ]
  },
  {
   "cell_type": "markdown",
   "metadata": {},
   "source": [
    "####  Northern Hemisphere - Max Temp vs. Latitude Linear Regression"
   ]
  },
  {
   "cell_type": "code",
   "execution_count": 65,
   "metadata": {},
   "outputs": [],
   "source": [
    "#create the North/South datasets, share the equator\n",
    "\n",
    "northernLats_pd = cityDataClean_pd.loc[cityDataClean_pd['Lat'] >= 0]\n",
    "southernLats_pd = cityDataClean_pd.loc[cityDataClean_pd['Lat'] <= 0]"
   ]
  },
  {
   "cell_type": "code",
   "execution_count": 96,
   "metadata": {},
   "outputs": [
    {
     "name": "stdout",
     "output_type": "stream",
     "text": [
      "The St. Pearson Correlation Coefficient between both factors is -0.88\n"
     ]
    },
    {
     "data": {
      "image/png": "[encoded data removed]",
      "text/plain": [
       "<Figure size 432x288 with 1 Axes>"
      ]
     },
     "metadata": {
      "needs_background": "light"
     },
     "output_type": "display_data"
    },
    {
     "data": {
      "text/plain": [
       "<Figure size 432x288 with 0 Axes>"
      ]
     },
     "metadata": {},
     "output_type": "display_data"
    }
   ],
   "source": [
    "#get regression stats, print r\n",
    "slope, intercept, rValue, pValue, std_err = linregress(northernLats_pd['Lat'], northernLats_pd['Max Temp'])\n",
    "print(f'The St. Pearson Correlation Coefficient between both factors is {round(rValue, 2)}')\n",
    "\n",
    "#compose line of best fit (regression line) according to \"y = mx + b\"\n",
    "line_best_fit = slope*(northernLats_pd['Lat']) + intercept\n",
    "\n",
    "\n",
    "annotation_string = 'y = ' + str(round(slope, 2)) + 'x + ' + str(round(intercept, 2))\n",
    "plt.annotate(annotation_string, xy=(5,30), fontsize=13, color='red')\n",
    "plt.plot(northernLats_pd['Lat'],line_best_fit,\"-\", color='red')\n",
    "plt.ylim(0, 120)\n",
    "plt.xlim(0, 90)\n",
    "plt.xlabel('Latitude')\n",
    "plt.ylabel('Max Temperature (F)')\n",
    "plt.title('Northern Hemisphere - Max Temp vs. Latitude Linear Regression')\n",
    "\n",
    "plt.scatter(northernLats_pd['Lat'], northernLats_pd['Max Temp'], marker='o', facecolors='blue', edgecolors='blue')\n",
    "plt.show()\n",
    "plt.savefig(\"output_data/Northern_Hemisphere-Max_Temp_vs._Latitude_Linear_Regression.png\")"
   ]
  },
  {
   "cell_type": "markdown",
   "metadata": {},
   "source": [
    "####  Southern Hemisphere - Max Temp vs. Latitude Linear Regression"
   ]
  },
  {
   "cell_type": "code",
   "execution_count": 97,
   "metadata": {},
   "outputs": [
    {
     "name": "stdout",
     "output_type": "stream",
     "text": [
      "The St. Pearson Correlation Coefficient between both factors is 0.69\n"
     ]
    },
    {
     "data": {
      "image/png": "[encoded data removed]",
      "text/plain": [
       "<Figure size 432x288 with 1 Axes>"
      ]
     },
     "metadata": {
      "needs_background": "light"
     },
     "output_type": "display_data"
    },
    {
     "data": {
      "text/plain": [
       "<Figure size 432x288 with 0 Axes>"
      ]
     },
     "metadata": {},
     "output_type": "display_data"
    }
   ],
   "source": [
    "#get regression stats, print r\n",
    "slope, intercept, rValue, pValue, std_err = linregress(southernLats_pd['Lat'], southernLats_pd['Max Temp'])\n",
    "print(f'The St. Pearson Correlation Coefficient between both factors is {round(rValue, 2)}')\n",
    "\n",
    "#compose line of best fit (regression line) according to \"y = mx + b\"\n",
    "line_best_fit = slope*(southernLats_pd['Lat']) + intercept\n",
    "\n",
    "\n",
    "annotation_string = 'y = ' + str(round(slope, 2)) + 'x + ' + str(round(intercept, 2))\n",
    "plt.annotate(annotation_string, xy=(-70,35), fontsize=13, color='red')\n",
    "plt.plot(southernLats_pd['Lat'],line_best_fit,\"-\", color='red')\n",
    "plt.ylim(0, 100)\n",
    "plt.xlim(-80, 0)\n",
    "plt.xlabel('Latitude')\n",
    "plt.ylabel('Max Temperature (F)')\n",
    "plt.title('Southern Hemisphere - Max Temperature vs. Latitude Linear Regression')\n",
    "\n",
    "plt.scatter(southernLats_pd['Lat'], southernLats_pd['Max Temp'], marker='o', facecolors='blue', edgecolors='blue')\n",
    "plt.show()\n",
    "plt.savefig(\"output_data/Southern_Hemisphere-Max_Temp_vs._Latitude_Linear_Regression.png\")"
   ]
  },
  {
   "cell_type": "markdown",
   "metadata": {},
   "source": [
    "####  Northern Hemisphere - Humidity (%) vs. Latitude Linear Regression"
   ]
  },
  {
   "cell_type": "code",
   "execution_count": 98,
   "metadata": {},
   "outputs": [
    {
     "name": "stdout",
     "output_type": "stream",
     "text": [
      "The St. Pearson Correlation Coefficient between both factors is 0.15\n"
     ]
    },
    {
     "data": {
      "image/png": "[encoded data removed]",
      "text/plain": [
       "<Figure size 432x288 with 1 Axes>"
      ]
     },
     "metadata": {
      "needs_background": "light"
     },
     "output_type": "display_data"
    },
    {
     "data": {
      "text/plain": [
       "<Figure size 432x288 with 0 Axes>"
      ]
     },
     "metadata": {},
     "output_type": "display_data"
    }
   ],
   "source": [
    "#get regression stats, print r\n",
    "slope, intercept, rValue, pValue, std_err = linregress(northernLats_pd['Lat'], northernLats_pd['Humidity'])\n",
    "print(f'The St. Pearson Correlation Coefficient between both factors is {round(rValue, 2)}')\n",
    "\n",
    "#compose line of best fit (regression line) according to \"y = mx + b\"\n",
    "line_best_fit = slope*(northernLats_pd['Lat']) + intercept\n",
    "\n",
    "\n",
    "annotation_string = 'y = ' + str(round(slope, 2)) + 'x + ' + str(round(intercept, 2))\n",
    "plt.annotate(annotation_string, xy=(50,10), fontsize=13, color='red')\n",
    "plt.plot(northernLats_pd['Lat'],line_best_fit,\"-\", color='red')\n",
    "plt.ylim(0, 105)\n",
    "plt.xlim(0, 90)\n",
    "plt.xlabel('Latitude')\n",
    "plt.ylabel('Humidity (%)')\n",
    "plt.title('Northern Hemisphere - Humidity vs. Latitude Linear Regression')\n",
    "\n",
    "plt.scatter(northernLats_pd['Lat'], northernLats_pd['Humidity'], marker='o', facecolors='blue', edgecolors='blue')\n",
    "plt.show()\n",
    "plt.savefig(\"output_data/Northern_Hemisphere-Humidity_vs._Latitude_Linear_Regression.png\")"
   ]
  },
  {
   "cell_type": "markdown",
   "metadata": {},
   "source": [
    "####  Southern Hemisphere - Humidity (%) vs. Latitude Linear Regression"
   ]
  },
  {
   "cell_type": "code",
   "execution_count": 99,
   "metadata": {},
   "outputs": [
    {
     "name": "stdout",
     "output_type": "stream",
     "text": [
      "The St. Pearson Correlation Coefficient between both factors is 0.09\n"
     ]
    },
    {
     "data": {
      "image/png": "[encoded data removed]",
      "text/plain": [
       "<Figure size 432x288 with 1 Axes>"
      ]
     },
     "metadata": {
      "needs_background": "light"
     },
     "output_type": "display_data"
    },
    {
     "data": {
      "text/plain": [
       "<Figure size 432x288 with 0 Axes>"
      ]
     },
     "metadata": {},
     "output_type": "display_data"
    }
   ],
   "source": [
    "#get regression stats, print r\n",
    "slope, intercept, rValue, pValue, std_err = linregress(southernLats_pd['Lat'], southernLats_pd['Humidity'])\n",
    "print(f'The St. Pearson Correlation Coefficient between both factors is {round(rValue, 2)}')\n",
    "\n",
    "#compose line of best fit (regression line) according to \"y = mx + b\"\n",
    "line_best_fit = slope*(southernLats_pd['Lat']) + intercept\n",
    "\n",
    "\n",
    "annotation_string = 'y = ' + str(round(slope, 2)) + 'x + ' + str(round(intercept, 2))\n",
    "plt.annotate(annotation_string, xy=(-70,45), fontsize=13, color='red')\n",
    "plt.plot(southernLats_pd['Lat'],line_best_fit,\"-\", color='red')\n",
    "plt.ylim(0, 105)\n",
    "plt.xlim(-80, 0)\n",
    "plt.xlabel('Latitude')\n",
    "plt.ylabel('Humidity (%)')\n",
    "plt.title('Southern Hemisphere - Humidity vs. Latitude Linear Regression')\n",
    "\n",
    "plt.scatter(southernLats_pd['Lat'], southernLats_pd['Humidity'], marker='o', facecolors='blue', edgecolors='blue')\n",
    "plt.show()\n",
    "plt.savefig(\"output_data/Southern_Hemisphere-Humidity_vs._Latitude_Linear_Regression.png\")"
   ]
  },
  {
   "cell_type": "markdown",
   "metadata": {},
   "source": [
    "####  Northern Hemisphere - Cloudiness (%) vs. Latitude Linear Regression"
   ]
  },
  {
   "cell_type": "code",
   "execution_count": 100,
   "metadata": {},
   "outputs": [
    {
     "name": "stdout",
     "output_type": "stream",
     "text": [
      "The St. Pearson Correlation Coefficient between both factors is 0.09\n"
     ]
    },
    {
     "data": {
      "image/png": "[encoded data removed]",
      "text/plain": [
       "<Figure size 432x288 with 1 Axes>"
      ]
     },
     "metadata": {
      "needs_background": "light"
     },
     "output_type": "display_data"
    },
    {
     "data": {
      "text/plain": [
       "<Figure size 432x288 with 0 Axes>"
      ]
     },
     "metadata": {},
     "output_type": "display_data"
    }
   ],
   "source": [
    "#get regression stats, print r\n",
    "slope, intercept, rValue, pValue, std_err = linregress(northernLats_pd['Lat'], northernLats_pd['Cloudiness'])\n",
    "print(f'The St. Pearson Correlation Coefficient between both factors is {round(rValue, 2)}')\n",
    "\n",
    "#compose line of best fit (regression line) according to \"y = mx + b\"\n",
    "line_best_fit = slope*(northernLats_pd['Lat']) + intercept\n",
    "\n",
    "\n",
    "annotation_string = 'y = ' + str(round(slope, 2)) + 'x + ' + str(round(intercept, 2))\n",
    "plt.annotate(annotation_string, xy=(55,55), fontsize=13, color='red')\n",
    "plt.plot(northernLats_pd['Lat'],line_best_fit,\"-\", color='red')\n",
    "plt.ylim(0, 105)\n",
    "plt.xlim(0, 90)\n",
    "plt.xlabel('Latitude')\n",
    "plt.ylabel('Cloudiness (%)')\n",
    "plt.title('Northern Hemisphere - Cloudiness vs. Latitude Linear Regression')\n",
    "\n",
    "plt.scatter(northernLats_pd['Lat'], northernLats_pd['Cloudiness'], marker='o', facecolors='blue', edgecolors='blue')\n",
    "plt.show()\n",
    "plt.savefig(\"output_data/Northern_Hemisphere-Cloudiness_vs._Latitude_Linear_Regression.png\")"
   ]
  },
  {
   "cell_type": "markdown",
   "metadata": {},
   "source": [
    "####  Southern Hemisphere - Cloudiness (%) vs. Latitude Linear Regression"
   ]
  },
  {
   "cell_type": "code",
   "execution_count": 101,
   "metadata": {},
   "outputs": [
    {
     "name": "stdout",
     "output_type": "stream",
     "text": [
      "The St. Pearson Correlation Coefficient between both factors is 0.09\n"
     ]
    },
    {
     "data": {
      "image/png": "[encoded data removed]",
      "text/plain": [
       "<Figure size 432x288 with 1 Axes>"
      ]
     },
     "metadata": {
      "needs_background": "light"
     },
     "output_type": "display_data"
    },
    {
     "data": {
      "text/plain": [
       "<Figure size 432x288 with 0 Axes>"
      ]
     },
     "metadata": {},
     "output_type": "display_data"
    }
   ],
   "source": [
    "#get regression stats, print r\n",
    "slope, intercept, rValue, pValue, std_err = linregress(southernLats_pd['Lat'], southernLats_pd['Cloudiness'])\n",
    "print(f'The St. Pearson Correlation Coefficient between both factors is {round(rValue, 2)}')\n",
    "\n",
    "#compose line of best fit (regression line) according to \"y = mx + b\"\n",
    "line_best_fit = slope*(southernLats_pd['Lat']) + intercept\n",
    "\n",
    "\n",
    "annotation_string = 'y = ' + str(round(slope, 2)) + 'x + ' + str(round(intercept, 2))\n",
    "plt.annotate(annotation_string, xy=(-76,50), fontsize=13, color='red')\n",
    "plt.plot(southernLats_pd['Lat'],line_best_fit,\"-\", color='red')\n",
    "plt.ylim(0, 105)\n",
    "plt.xlim(-80, 0)\n",
    "plt.xlabel('Latitude')\n",
    "plt.ylabel('Cloudiness (%)')\n",
    "plt.title('Southern Hemisphere - Cloudiness vs. Latitude Linear Regression')\n",
    "\n",
    "plt.scatter(southernLats_pd['Lat'], southernLats_pd['Cloudiness'], marker='o', facecolors='blue', edgecolors='blue')\n",
    "plt.show()\n",
    "plt.savefig(\"output_data/Southern_Hemisphere-Cloudiness_vs._Latitude_Linear_Regression.png\")"
   ]
  },
  {
   "cell_type": "markdown",
   "metadata": {},
   "source": [
    "####  Northern Hemisphere - Wind Speed (mph) vs. Latitude Linear Regression"
   ]
  },
  {
   "cell_type": "code",
   "execution_count": 102,
   "metadata": {},
   "outputs": [
    {
     "name": "stdout",
     "output_type": "stream",
     "text": [
      "The St. Pearson Correlation Coefficient between both factors is 0.03\n"
     ]
    },
    {
     "data": {
      "image/png": "[encoded data removed]",
      "text/plain": [
       "<Figure size 432x288 with 1 Axes>"
      ]
     },
     "metadata": {
      "needs_background": "light"
     },
     "output_type": "display_data"
    },
    {
     "data": {
      "text/plain": [
       "<Figure size 432x288 with 0 Axes>"
      ]
     },
     "metadata": {},
     "output_type": "display_data"
    }
   ],
   "source": [
    "#get regression stats, print r\n",
    "slope, intercept, rValue, pValue, std_err = linregress(northernLats_pd['Lat'], northernLats_pd['Wind Speed'])\n",
    "print(f'The St. Pearson Correlation Coefficient between both factors is {round(rValue, 2)}')\n",
    "\n",
    "#compose line of best fit (regression line) according to \"y = mx + b\"\n",
    "line_best_fit = slope*(northernLats_pd['Lat']) + intercept\n",
    "\n",
    "\n",
    "annotation_string = 'y = ' + str(round(slope, 2)) + 'x + ' + str(round(intercept, 2))\n",
    "plt.annotate(annotation_string, xy=(9,30), fontsize=13, color='red')\n",
    "plt.plot(northernLats_pd['Lat'],line_best_fit,\"-\", color='red')\n",
    "plt.ylim(0, 50)\n",
    "plt.xlim(0, 90)\n",
    "plt.xlabel('Latitude')\n",
    "plt.ylabel('Wind Speed (MPH)')\n",
    "plt.title('Northern Hemisphere - Wind Speed vs. Latitude Linear Regression')\n",
    "\n",
    "plt.scatter(northernLats_pd['Lat'], northernLats_pd['Wind Speed'], marker='o', facecolors='blue', edgecolors='blue')\n",
    "plt.show()\n",
    "plt.savefig(\"output_data/Northern_Hemisphere-Wind_Speed_vs._Latitude_Linear_Regression.png\")"
   ]
  },
  {
   "cell_type": "markdown",
   "metadata": {},
   "source": [
    "####  Southern Hemisphere - Wind Speed (mph) vs. Latitude Linear Regression"
   ]
  },
  {
   "cell_type": "code",
   "execution_count": 103,
   "metadata": {},
   "outputs": [
    {
     "name": "stdout",
     "output_type": "stream",
     "text": [
      "The St. Pearson Correlation Coefficient between both factors is -0.01\n"
     ]
    },
    {
     "data": {
      "image/png": "[encoded data removed]",
      "text/plain": [
       "<Figure size 432x288 with 1 Axes>"
      ]
     },
     "metadata": {
      "needs_background": "light"
     },
     "output_type": "display_data"
    },
    {
     "data": {
      "text/plain": [
       "<Figure size 432x288 with 0 Axes>"
      ]
     },
     "metadata": {},
     "output_type": "display_data"
    }
   ],
   "source": [
    "#get regression stats, print r\n",
    "slope, intercept, rValue, pValue, std_err = linregress(southernLats_pd['Lat'], southernLats_pd['Wind Speed'])\n",
    "print(f'The St. Pearson Correlation Coefficient between both factors is {round(rValue, 2)}')\n",
    "\n",
    "#compose line of best fit (regression line) according to \"y = mx + b\"\n",
    "line_best_fit = slope*(southernLats_pd['Lat']) + intercept\n",
    "\n",
    "\n",
    "annotation_string = 'y = ' + str(round(slope, 2)) + 'x + ' + str(round(intercept, 2))\n",
    "plt.annotate(annotation_string, xy=(-70,30), fontsize=13, color='red')\n",
    "plt.plot(southernLats_pd['Lat'],line_best_fit,\"-\", color='red')\n",
    "plt.ylim(0, 50)\n",
    "plt.xlim(-80, 0)\n",
    "plt.xlabel('Latitude')\n",
    "plt.ylabel('Wind Speed (MPH)')\n",
    "plt.title('Southern Hemisphere - Wind Speed vs. Latitude Linear Regression')\n",
    "\n",
    "plt.scatter(southernLats_pd['Lat'], southernLats_pd['Wind Speed'], marker='o', facecolors='blue', edgecolors='blue')\n",
    "plt.show()\n",
    "plt.savefig(\"output_data/Southern_Hemisphere-Wind_Speed_vs._Latitude_Linear_Regression.png\")"
   ]
  },
  {
   "cell_type": "code",
   "execution_count": null,
   "metadata": {},
   "outputs": [],
   "source": [
    "# 3 observable trends based on the data\n",
    "\n",
    "#1. proximity to the equator has no discernable impact on Wind Speed, Cloudiness or Humidity. \n",
    "#    It does have a significant correlation with Max Temp. This would lead me to believe that local \n",
    "#    geography is the greatest determining factor of our experience of weather outside of ambient temperature\n",
    "\n",
    "#2. Cloudiness has the greatest spread of data (highest std and ranges from no clouds to all clouds - 100 units). \n",
    "#     Wind Speed has the least spread (lowest std and ranges barely 33 units). These two factors seem to each\n",
    "#     have a livability range irrespective of latitude (likely also longitude). People do not seem to have to \n",
    "#     make any decisions about where to survive based on Cloudiness, but Wind Speed can quickly become a mitigating factor\n",
    "\n",
    "\n",
    "#3. there is a much larger population of cities and much lower Max Temps reported at the end of the distribution in \n",
    "#     the extreme Northern Hemisphere than in the extreme Southern Hemisphere. This is reflective of how much more \n",
    "#     landmass exists there and how much more widespread it is \n",
    " "
   ]
  }
 ],
 "metadata": {
  "anaconda-cloud": {},
  "kernel_info": {
   "name": "python3"
  },
  "kernelspec": {
   "display_name": "Python 3",
   "language": "python",
   "name": "python3"
  },
  "language_info": {
   "codemirror_mode": {
    "name": "ipython",
    "version": 3
   },
   "file_extension": ".py",
   "mimetype": "text/x-python",
   "name": "python",
   "nbconvert_exporter": "python",
   "pygments_lexer": "ipython3",
   "version": "3.8.5"
  },
  "latex_envs": {
   "LaTeX_envs_menu_present": true,
   "autoclose": false,
   "autocomplete": true,
   "bibliofile": "biblio.bib",
   "cite_by": "apalike",
   "current_citInitial": 1,
   "eqLabelWithNumbers": true,
   "eqNumInitial": 1,
   "hotkeys": {
    "equation": "Ctrl-E",
    "itemize": "Ctrl-I"
   },
   "labels_anchors": false,
   "latex_user_defs": false,
   "report_style_numbering": false,
   "user_envs_cfg": false
  },
  "nteract": {
   "version": "0.12.3"
  }
 },
 "nbformat": 4,
 "nbformat_minor": 2
}
