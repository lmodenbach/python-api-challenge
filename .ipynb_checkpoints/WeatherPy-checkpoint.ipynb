{
 "cells": [
  {
   "cell_type": "markdown",
   "metadata": {},
   "source": [
    "# WeatherPy\n",
    "----\n",
    "\n",
    "#### Note\n",
    "* Instructions have been included for each segment. You do not have to follow them exactly, but they are included to help you think through the steps."
   ]
  },
  {
   "cell_type": "code",
   "execution_count": 1,
   "metadata": {
    "scrolled": true
   },
   "outputs": [],
   "source": [
    "#dependencies and Setup\n",
    "import matplotlib.pyplot as plt\n",
    "import pandas as pd\n",
    "import numpy as np\n",
    "import requests\n",
    "import time\n",
    "import datetime\n",
    "from scipy.stats import linregress\n",
    "\n",
    "#import API key\n",
    "from api_keys import weather_api_key\n",
    "\n",
    "#import citipy to determine city based on latitude and longitude\n",
    "from citipy import citipy\n",
    "\n",
    "#import geopy to find country based on latitude and longitude\n",
    "from geopy.geocoders import Nominatim\n",
    "\n",
    "#output to File (CSV)\n",
    "output_data_file = \"output_data/cities.csv\"\n",
    "\n",
    "#range of latitudes and longitudes\n",
    "lat_range = (-90, 90)\n",
    "lng_range = (-180, 180)"
   ]
  },
  {
   "cell_type": "markdown",
   "metadata": {},
   "source": [
    "## Generate Cities List"
   ]
  },
  {
   "cell_type": "code",
   "execution_count": 2,
   "metadata": {},
   "outputs": [
    {
     "data": {
      "text/plain": [
       "604"
      ]
     },
     "execution_count": 2,
     "metadata": {},
     "output_type": "execute_result"
    }
   ],
   "source": [
    "#list for holding lat/lng and cities\n",
    "lat_lngs = []\n",
    "cities = []\n",
    "\n",
    "#create a set of random lat and lng combinations, zip into one list variable\n",
    "lats = np.random.uniform(lat_range[0], lat_range[1], size=1500)\n",
    "lngs = np.random.uniform(lng_range[0], lng_range[1], size=1500)\n",
    "lat_lngs = zip(lats, lngs)\n",
    "\n",
    "\n",
    "#identify nearest city for each lat, lng combination\n",
    "for lat_lng in lat_lngs:\n",
    "    city = citipy.nearest_city(lat_lng[0], lat_lng[1]).city_name\n",
    "    \n",
    "    #if the city is not already in our cities list, add it\n",
    "    if city not in cities:\n",
    "        cities.append(city)\n",
    "\n",
    "#print the city count to confirm sufficient count\n",
    "len(cities)"
   ]
  },
  {
   "cell_type": "markdown",
   "metadata": {},
   "source": [
    "### Perform API Calls\n",
    "* Perform a weather check on each city using a series of successive API calls.\n",
    "* Include a print log of each city as it'sbeing processed (with the city number and city name).\n"
   ]
  },
  {
   "cell_type": "code",
   "execution_count": 34,
   "metadata": {
    "scrolled": true
   },
   "outputs": [
    {
     "name": "stdout",
     "output_type": "stream",
     "text": [
      "Beginning Data Retrieval\n",
      "----------------------------\n",
      "processing record 1 of set 1 | rikitea\n",
      "processing record 2 of set 1 | illoqqortoormiut\n",
      "illoqqortoormiut not found. Skipping...\n",
      "processing record 3 of set 1 | ilulissat\n",
      "processing record 4 of set 1 | hermanus\n",
      "processing record 5 of set 1 | punta arenas\n",
      "processing record 6 of set 1 | albany\n",
      "processing record 7 of set 1 | souillac\n",
      "processing record 8 of set 1 | broome\n",
      "processing record 9 of set 1 | torbay\n",
      "processing record 10 of set 1 | cidreira\n",
      "processing record 11 of set 1 | thompson\n",
      "processing record 12 of set 1 | floresta\n",
      "processing record 13 of set 1 | bandarbeyla\n",
      "processing record 14 of set 1 | kapaa\n",
      "processing record 15 of set 1 | tasiilaq\n",
      "processing record 16 of set 1 | puerto ayora\n",
      "processing record 17 of set 1 | barentsburg\n",
      "barentsburg not found. Skipping...\n",
      "processing record 18 of set 1 | vaitupu\n",
      "vaitupu not found. Skipping...\n",
      "processing record 19 of set 1 | nikolskoye\n",
      "processing record 20 of set 1 | atuona\n"
     ]
    }
   ],
   "source": [
    "\n",
    "url = 'http://api.openweathermap.org/data/2.5/weather?units=imperial&appid=' + weather_api_key + '&q=' \n",
    "\n",
    "cityData = []\n",
    "cityDataStats = []\n",
    "set_count = 1 #group\n",
    "record = 1 #record within group\n",
    "\n",
    "print(f'Beginning Data Retrieval')\n",
    "print(f'----------------------------')\n",
    "\n",
    "for i, city in enumerate(cities):\n",
    "    if(i % 50 == 0 and i >= 50):\n",
    "        set_count += 1 #make new group\n",
    "        record = 0 #reset records in the group \n",
    "        \n",
    "#output record and group being processed\n",
    "    print(f'processing record {record} of set {set_count} | {city}')       \n",
    "     \n",
    "    record += 1\n",
    "    \n",
    "    cityurl = url + city\n",
    "    try:\n",
    "        cityWeather = requests.get(cityurl).json()\n",
    "        lat = cityWeather['coord']['lat']\n",
    "        lon = cityWeather['coord']['lon']\n",
    "        maxTemp = cityWeather['main']['temp_max']\n",
    "        humidity = cityWeather['main']['humidity']\n",
    "        cloudiness = cityWeather['clouds']['all']\n",
    "        windSpeed = cityWeather['wind']['speed']\n",
    "        date = cityWeather['dt']\n",
    "        geolocator = Nominatim(user_agent=\"python_api_project\")\n",
    "        location = geolocator.reverse(str(lat)+\",\"+str(lon))\n",
    "        address = location.raw['address']\n",
    "        country_code = address.get('country_code').upper()\n",
    "        \n",
    "        cityData.append({'City':city, 'Lat':lat, 'Lng':lon, 'Max Temp': maxTemp, \n",
    "                         'Humidity':humidity, 'Cloudiness':cloudiness, 'Wind Speed':windSpeed,\n",
    "                        'Date':date})\n",
    "        cityDataStats.append({'Lat':lat, 'Lng':lon, 'Max Temp': maxTemp, \n",
    "                         'Humidity':humidity, 'Cloudiness':cloudiness, 'Wind Speed':windSpeed,\n",
    "                        'Date':date})\n",
    "        #cityDataDisplay_pd\n",
    "        \n",
    "        \n",
    "\n",
    "    except:\n",
    "        print(f'{city} not found. Skipping...')\n",
    "\n",
    "    if (i == 19):\n",
    "        break"
   ]
  },
  {
   "cell_type": "markdown",
   "metadata": {},
   "source": [
    "### Convert Raw Data to DataFrame\n",
    "* Export the city data into a .csv.\n",
    "* Display the DataFrame"
   ]
  },
  {
   "cell_type": "code",
   "execution_count": 4,
   "metadata": {},
   "outputs": [
    {
     "data": {
      "text/html": [
       "<div>\n",
       "<style scoped>\n",
       "    .dataframe tbody tr th:only-of-type {\n",
       "        vertical-align: middle;\n",
       "    }\n",
       "\n",
       "    .dataframe tbody tr th {\n",
       "        vertical-align: top;\n",
       "    }\n",
       "\n",
       "    .dataframe thead th {\n",
       "        text-align: right;\n",
       "    }\n",
       "</style>\n",
       "<table border=\"1\" class=\"dataframe\">\n",
       "  <thead>\n",
       "    <tr style=\"text-align: right;\">\n",
       "      <th></th>\n",
       "      <th>City</th>\n",
       "      <th>Lat</th>\n",
       "      <th>Lng</th>\n",
       "      <th>Max Temp</th>\n",
       "      <th>Humidity</th>\n",
       "      <th>Cloudiness</th>\n",
       "      <th>Wind Speed</th>\n",
       "      <th>Date</th>\n",
       "    </tr>\n",
       "  </thead>\n",
       "  <tbody>\n",
       "    <tr>\n",
       "      <th>0</th>\n",
       "      <td>rikitea</td>\n",
       "      <td>-23.1203</td>\n",
       "      <td>-134.9692</td>\n",
       "      <td>79.12</td>\n",
       "      <td>70</td>\n",
       "      <td>96</td>\n",
       "      <td>19.22</td>\n",
       "      <td>1619197819</td>\n",
       "    </tr>\n",
       "    <tr>\n",
       "      <th>1</th>\n",
       "      <td>ilulissat</td>\n",
       "      <td>69.2167</td>\n",
       "      <td>-51.1000</td>\n",
       "      <td>41.00</td>\n",
       "      <td>48</td>\n",
       "      <td>20</td>\n",
       "      <td>16.11</td>\n",
       "      <td>1619197680</td>\n",
       "    </tr>\n",
       "    <tr>\n",
       "      <th>2</th>\n",
       "      <td>hermanus</td>\n",
       "      <td>-34.4187</td>\n",
       "      <td>19.2345</td>\n",
       "      <td>57.99</td>\n",
       "      <td>82</td>\n",
       "      <td>76</td>\n",
       "      <td>2.51</td>\n",
       "      <td>1619197821</td>\n",
       "    </tr>\n",
       "    <tr>\n",
       "      <th>3</th>\n",
       "      <td>punta arenas</td>\n",
       "      <td>-53.1500</td>\n",
       "      <td>-70.9167</td>\n",
       "      <td>48.20</td>\n",
       "      <td>93</td>\n",
       "      <td>75</td>\n",
       "      <td>4.61</td>\n",
       "      <td>1619197554</td>\n",
       "    </tr>\n",
       "    <tr>\n",
       "      <th>4</th>\n",
       "      <td>albany</td>\n",
       "      <td>42.6001</td>\n",
       "      <td>-73.9662</td>\n",
       "      <td>55.99</td>\n",
       "      <td>25</td>\n",
       "      <td>17</td>\n",
       "      <td>5.01</td>\n",
       "      <td>1619197740</td>\n",
       "    </tr>\n",
       "  </tbody>\n",
       "</table>\n",
       "</div>"
      ],
      "text/plain": [
       "           City      Lat       Lng  Max Temp  Humidity  Cloudiness  \\\n",
       "0       rikitea -23.1203 -134.9692     79.12        70          96   \n",
       "1     ilulissat  69.2167  -51.1000     41.00        48          20   \n",
       "2      hermanus -34.4187   19.2345     57.99        82          76   \n",
       "3  punta arenas -53.1500  -70.9167     48.20        93          75   \n",
       "4        albany  42.6001  -73.9662     55.99        25          17   \n",
       "\n",
       "   Wind Speed        Date  \n",
       "0       19.22  1619197819  \n",
       "1       16.11  1619197680  \n",
       "2        2.51  1619197821  \n",
       "3        4.61  1619197554  \n",
       "4        5.01  1619197740  "
      ]
     },
     "execution_count": 4,
     "metadata": {},
     "output_type": "execute_result"
    }
   ],
   "source": [
    "cityData_pd = pd.DataFrame(cityData)\n",
    "cityData_pd.head()"
   ]
  },
  {
   "cell_type": "code",
   "execution_count": 5,
   "metadata": {},
   "outputs": [
    {
     "data": {
      "text/html": [
       "<div>\n",
       "<style scoped>\n",
       "    .dataframe tbody tr th:only-of-type {\n",
       "        vertical-align: middle;\n",
       "    }\n",
       "\n",
       "    .dataframe tbody tr th {\n",
       "        vertical-align: top;\n",
       "    }\n",
       "\n",
       "    .dataframe thead th {\n",
       "        text-align: right;\n",
       "    }\n",
       "</style>\n",
       "<table border=\"1\" class=\"dataframe\">\n",
       "  <thead>\n",
       "    <tr style=\"text-align: right;\">\n",
       "      <th></th>\n",
       "      <th>Lat</th>\n",
       "      <th>Lng</th>\n",
       "      <th>Max Temp</th>\n",
       "      <th>Humidity</th>\n",
       "      <th>Cloudiness</th>\n",
       "      <th>Wind Speed</th>\n",
       "      <th>Date</th>\n",
       "    </tr>\n",
       "  </thead>\n",
       "  <tbody>\n",
       "    <tr>\n",
       "      <th>count</th>\n",
       "      <td>17.000000</td>\n",
       "      <td>17.000000</td>\n",
       "      <td>17.000000</td>\n",
       "      <td>17.000000</td>\n",
       "      <td>17.000000</td>\n",
       "      <td>17.000000</td>\n",
       "      <td>1.700000e+01</td>\n",
       "    </tr>\n",
       "    <tr>\n",
       "      <th>mean</th>\n",
       "      <td>13.755159</td>\n",
       "      <td>-53.772818</td>\n",
       "      <td>61.965882</td>\n",
       "      <td>63.117647</td>\n",
       "      <td>52.117647</td>\n",
       "      <td>11.670000</td>\n",
       "      <td>1.619198e+09</td>\n",
       "    </tr>\n",
       "    <tr>\n",
       "      <th>std</th>\n",
       "      <td>39.566039</td>\n",
       "      <td>64.122939</td>\n",
       "      <td>20.632197</td>\n",
       "      <td>19.025911</td>\n",
       "      <td>30.825887</td>\n",
       "      <td>6.523442</td>\n",
       "      <td>2.151671e+02</td>\n",
       "    </tr>\n",
       "    <tr>\n",
       "      <th>min</th>\n",
       "      <td>-53.150000</td>\n",
       "      <td>-159.319000</td>\n",
       "      <td>21.200000</td>\n",
       "      <td>25.000000</td>\n",
       "      <td>1.000000</td>\n",
       "      <td>2.510000</td>\n",
       "      <td>1.619197e+09</td>\n",
       "    </tr>\n",
       "    <tr>\n",
       "      <th>25%</th>\n",
       "      <td>-20.516700</td>\n",
       "      <td>-90.351800</td>\n",
       "      <td>48.200000</td>\n",
       "      <td>49.000000</td>\n",
       "      <td>25.000000</td>\n",
       "      <td>5.500000</td>\n",
       "      <td>1.619197e+09</td>\n",
       "    </tr>\n",
       "    <tr>\n",
       "      <th>50%</th>\n",
       "      <td>9.494200</td>\n",
       "      <td>-52.731400</td>\n",
       "      <td>57.990000</td>\n",
       "      <td>69.000000</td>\n",
       "      <td>40.000000</td>\n",
       "      <td>11.270000</td>\n",
       "      <td>1.619198e+09</td>\n",
       "    </tr>\n",
       "    <tr>\n",
       "      <th>75%</th>\n",
       "      <td>47.666600</td>\n",
       "      <td>-37.636800</td>\n",
       "      <td>79.120000</td>\n",
       "      <td>78.000000</td>\n",
       "      <td>76.000000</td>\n",
       "      <td>16.110000</td>\n",
       "      <td>1.619198e+09</td>\n",
       "    </tr>\n",
       "    <tr>\n",
       "      <th>max</th>\n",
       "      <td>69.216700</td>\n",
       "      <td>57.516700</td>\n",
       "      <td>94.890000</td>\n",
       "      <td>93.000000</td>\n",
       "      <td>96.000000</td>\n",
       "      <td>21.850000</td>\n",
       "      <td>1.619198e+09</td>\n",
       "    </tr>\n",
       "  </tbody>\n",
       "</table>\n",
       "</div>"
      ],
      "text/plain": [
       "             Lat         Lng   Max Temp   Humidity  Cloudiness  Wind Speed  \\\n",
       "count  17.000000   17.000000  17.000000  17.000000   17.000000   17.000000   \n",
       "mean   13.755159  -53.772818  61.965882  63.117647   52.117647   11.670000   \n",
       "std    39.566039   64.122939  20.632197  19.025911   30.825887    6.523442   \n",
       "min   -53.150000 -159.319000  21.200000  25.000000    1.000000    2.510000   \n",
       "25%   -20.516700  -90.351800  48.200000  49.000000   25.000000    5.500000   \n",
       "50%     9.494200  -52.731400  57.990000  69.000000   40.000000   11.270000   \n",
       "75%    47.666600  -37.636800  79.120000  78.000000   76.000000   16.110000   \n",
       "max    69.216700   57.516700  94.890000  93.000000   96.000000   21.850000   \n",
       "\n",
       "               Date  \n",
       "count  1.700000e+01  \n",
       "mean   1.619198e+09  \n",
       "std    2.151671e+02  \n",
       "min    1.619197e+09  \n",
       "25%    1.619197e+09  \n",
       "50%    1.619198e+09  \n",
       "75%    1.619198e+09  \n",
       "max    1.619198e+09  "
      ]
     },
     "execution_count": 5,
     "metadata": {},
     "output_type": "execute_result"
    }
   ],
   "source": [
    "cityDataStats_pd = pd.DataFrame(cityDataStats)\n",
    "cityDataStats_pd.describe(datetime_is_numeric=True)"
   ]
  },
  {
   "cell_type": "markdown",
   "metadata": {},
   "source": [
    "## Inspect the data and remove the cities where the humidity > 100%.\n",
    "----\n",
    "Skip this step if there are no cities that have humidity > 100%. "
   ]
  },
  {
   "cell_type": "code",
   "execution_count": 49,
   "metadata": {},
   "outputs": [
    {
     "data": {
      "text/html": [
       "<div>\n",
       "<style scoped>\n",
       "    .dataframe tbody tr th:only-of-type {\n",
       "        vertical-align: middle;\n",
       "    }\n",
       "\n",
       "    .dataframe tbody tr th {\n",
       "        vertical-align: top;\n",
       "    }\n",
       "\n",
       "    .dataframe thead th {\n",
       "        text-align: right;\n",
       "    }\n",
       "</style>\n",
       "<table border=\"1\" class=\"dataframe\">\n",
       "  <thead>\n",
       "    <tr style=\"text-align: right;\">\n",
       "      <th></th>\n",
       "      <th>City</th>\n",
       "      <th>Lat</th>\n",
       "      <th>Lng</th>\n",
       "      <th>Max Temp</th>\n",
       "      <th>Humidity</th>\n",
       "      <th>Cloudiness</th>\n",
       "      <th>Wind Speed</th>\n",
       "      <th>Date</th>\n",
       "    </tr>\n",
       "  </thead>\n",
       "  <tbody>\n",
       "    <tr>\n",
       "      <th>0</th>\n",
       "      <td>rikitea</td>\n",
       "      <td>-23.1203</td>\n",
       "      <td>-134.9692</td>\n",
       "      <td>79.12</td>\n",
       "      <td>70</td>\n",
       "      <td>96</td>\n",
       "      <td>19.22</td>\n",
       "      <td>1619197819</td>\n",
       "    </tr>\n",
       "    <tr>\n",
       "      <th>1</th>\n",
       "      <td>ilulissat</td>\n",
       "      <td>69.2167</td>\n",
       "      <td>-51.1000</td>\n",
       "      <td>41.00</td>\n",
       "      <td>48</td>\n",
       "      <td>20</td>\n",
       "      <td>16.11</td>\n",
       "      <td>1619197680</td>\n",
       "    </tr>\n",
       "    <tr>\n",
       "      <th>2</th>\n",
       "      <td>hermanus</td>\n",
       "      <td>-34.4187</td>\n",
       "      <td>19.2345</td>\n",
       "      <td>57.99</td>\n",
       "      <td>82</td>\n",
       "      <td>76</td>\n",
       "      <td>2.51</td>\n",
       "      <td>1619197821</td>\n",
       "    </tr>\n",
       "    <tr>\n",
       "      <th>3</th>\n",
       "      <td>punta arenas</td>\n",
       "      <td>-53.1500</td>\n",
       "      <td>-70.9167</td>\n",
       "      <td>48.20</td>\n",
       "      <td>93</td>\n",
       "      <td>75</td>\n",
       "      <td>4.61</td>\n",
       "      <td>1619197554</td>\n",
       "    </tr>\n",
       "    <tr>\n",
       "      <th>4</th>\n",
       "      <td>albany</td>\n",
       "      <td>42.6001</td>\n",
       "      <td>-73.9662</td>\n",
       "      <td>55.99</td>\n",
       "      <td>25</td>\n",
       "      <td>17</td>\n",
       "      <td>5.01</td>\n",
       "      <td>1619197740</td>\n",
       "    </tr>\n",
       "    <tr>\n",
       "      <th>5</th>\n",
       "      <td>souillac</td>\n",
       "      <td>-20.5167</td>\n",
       "      <td>57.5167</td>\n",
       "      <td>78.80</td>\n",
       "      <td>78</td>\n",
       "      <td>40</td>\n",
       "      <td>12.66</td>\n",
       "      <td>1619197266</td>\n",
       "    </tr>\n",
       "    <tr>\n",
       "      <th>6</th>\n",
       "      <td>broome</td>\n",
       "      <td>42.2506</td>\n",
       "      <td>-75.8330</td>\n",
       "      <td>53.01</td>\n",
       "      <td>37</td>\n",
       "      <td>1</td>\n",
       "      <td>19.57</td>\n",
       "      <td>1619197723</td>\n",
       "    </tr>\n",
       "    <tr>\n",
       "      <th>7</th>\n",
       "      <td>torbay</td>\n",
       "      <td>47.6666</td>\n",
       "      <td>-52.7314</td>\n",
       "      <td>48.20</td>\n",
       "      <td>61</td>\n",
       "      <td>75</td>\n",
       "      <td>21.85</td>\n",
       "      <td>1619197528</td>\n",
       "    </tr>\n",
       "    <tr>\n",
       "      <th>8</th>\n",
       "      <td>cidreira</td>\n",
       "      <td>-30.1811</td>\n",
       "      <td>-50.2056</td>\n",
       "      <td>72.70</td>\n",
       "      <td>69</td>\n",
       "      <td>83</td>\n",
       "      <td>16.02</td>\n",
       "      <td>1619197661</td>\n",
       "    </tr>\n",
       "    <tr>\n",
       "      <th>9</th>\n",
       "      <td>thompson</td>\n",
       "      <td>55.7435</td>\n",
       "      <td>-97.8558</td>\n",
       "      <td>21.20</td>\n",
       "      <td>49</td>\n",
       "      <td>20</td>\n",
       "      <td>6.91</td>\n",
       "      <td>1619197422</td>\n",
       "    </tr>\n",
       "  </tbody>\n",
       "</table>\n",
       "</div>"
      ],
      "text/plain": [
       "           City      Lat       Lng  Max Temp  Humidity  Cloudiness  \\\n",
       "0       rikitea -23.1203 -134.9692     79.12        70          96   \n",
       "1     ilulissat  69.2167  -51.1000     41.00        48          20   \n",
       "2      hermanus -34.4187   19.2345     57.99        82          76   \n",
       "3  punta arenas -53.1500  -70.9167     48.20        93          75   \n",
       "4        albany  42.6001  -73.9662     55.99        25          17   \n",
       "5      souillac -20.5167   57.5167     78.80        78          40   \n",
       "6        broome  42.2506  -75.8330     53.01        37           1   \n",
       "7        torbay  47.6666  -52.7314     48.20        61          75   \n",
       "8      cidreira -30.1811  -50.2056     72.70        69          83   \n",
       "9      thompson  55.7435  -97.8558     21.20        49          20   \n",
       "\n",
       "   Wind Speed        Date  \n",
       "0       19.22  1619197819  \n",
       "1       16.11  1619197680  \n",
       "2        2.51  1619197821  \n",
       "3        4.61  1619197554  \n",
       "4        5.01  1619197740  \n",
       "5       12.66  1619197266  \n",
       "6       19.57  1619197723  \n",
       "7       21.85  1619197528  \n",
       "8       16.02  1619197661  \n",
       "9        6.91  1619197422  "
      ]
     },
     "execution_count": 49,
     "metadata": {},
     "output_type": "execute_result"
    }
   ],
   "source": [
    "#get loc on cities that have humidity <= 100% and create clean DataFrame\n",
    "#note: this was much cleaner than identifying rows by index and dropping to get a clean DataFrame\n",
    "#note: the max humidity may be below 100, but this is a good exercise regardless\n",
    "\n",
    "cityDataClean_pd = pd.DataFrame()\n",
    "cityDataClean_pd = cityData_pd.loc[cityData_pd['Humidity'] <= 100]\n",
    "\n",
    "cityDataClean_pd.head(10)\n",
    "        "
   ]
  },
  {
   "cell_type": "markdown",
   "metadata": {},
   "source": [
    "## Plotting the Data\n",
    "* Use proper labeling of the plots using plot titles (including date of analysis) and axes labels.\n",
    "* Save the plotted figures as .pngs."
   ]
  },
  {
   "cell_type": "markdown",
   "metadata": {},
   "source": [
    "## Latitude vs. Temperature Plot"
   ]
  },
  {
   "cell_type": "code",
   "execution_count": 59,
   "metadata": {
    "scrolled": true
   },
   "outputs": [
    {
     "data": {
      "text/plain": [
       "<matplotlib.collections.PathCollection at 0x2aab838a2e0>"
      ]
     },
     "execution_count": 59,
     "metadata": {},
     "output_type": "execute_result"
    },
    {
     "data": {
      "image/png": "[encoded data removed]",
      "text/plain": [
       "<Figure size 432x288 with 1 Axes>"
      ]
     },
     "metadata": {
      "needs_background": "light"
     },
     "output_type": "display_data"
    }
   ],
   "source": [
    "plt.grid()\n",
    "plt.ylim(-20, 100)\n",
    "plt.xlim(-60, 80)\n",
    "plt.xlabel('Latitude')\n",
    "plt.ylabel('Max temperature (F)')\n",
    "plt.title('City Latitude vs Max Temperature (4/23/21)') \n",
    "plt.scatter(cityDataClean_pd['Lat'], cityDataClean_pd['Max Temp'], marker='o', facecolors='blue', edgecolors='black')"
   ]
  },
  {
   "cell_type": "markdown",
   "metadata": {},
   "source": [
    "## Latitude vs. Humidity Plot"
   ]
  },
  {
   "cell_type": "code",
   "execution_count": 64,
   "metadata": {},
   "outputs": [
    {
     "data": {
      "text/plain": [
       "<matplotlib.collections.PathCollection at 0x2aab86cef40>"
      ]
     },
     "execution_count": 64,
     "metadata": {},
     "output_type": "execute_result"
    },
    {
     "data": {
      "image/png": "[encoded data removed]",
      "text/plain": [
       "<Figure size 432x288 with 1 Axes>"
      ]
     },
     "metadata": {
      "needs_background": "light"
     },
     "output_type": "display_data"
    }
   ],
   "source": [
    "plt.grid()\n",
    "plt.ylim(0, 100)\n",
    "plt.xlim(-80, 80)\n",
    "plt.xlabel('Latitude')\n",
    "plt.ylabel('Humidity (%)')\n",
    "plt.title('City Latitude vs Humidity (4/23/21)') \n",
    "plt.scatter(cityDataClean_pd['Lat'], cityDataClean_pd['Humidity'], marker='o', facecolors='blue', edgecolors='black')"
   ]
  },
  {
   "cell_type": "markdown",
   "metadata": {},
   "source": [
    "## Latitude vs. Cloudiness Plot"
   ]
  },
  {
   "cell_type": "code",
   "execution_count": 65,
   "metadata": {},
   "outputs": [
    {
     "data": {
      "text/plain": [
       "<matplotlib.collections.PathCollection at 0x2aab8742fd0>"
      ]
     },
     "execution_count": 65,
     "metadata": {},
     "output_type": "execute_result"
    },
    {
     "data": {
      "image/png": "[encoded data removed]",
      "text/plain": [
       "<Figure size 432x288 with 1 Axes>"
      ]
     },
     "metadata": {
      "needs_background": "light"
     },
     "output_type": "display_data"
    }
   ],
   "source": [
    "plt.grid()\n",
    "plt.ylim(0, 100)\n",
    "plt.xlim(-80, 80)\n",
    "plt.xlabel('Latitude')\n",
    "plt.ylabel('Cloudiness (%)')\n",
    "plt.title('City Latitude vs Cloudiness (4/23/21)') \n",
    "plt.scatter(cityDataClean_pd['Lat'], cityDataClean_pd['Cloudiness'], marker='o', facecolors='blue', edgecolors='black')"
   ]
  },
  {
   "cell_type": "markdown",
   "metadata": {},
   "source": [
    "## Latitude vs. Wind Speed Plot"
   ]
  },
  {
   "cell_type": "code",
   "execution_count": 67,
   "metadata": {},
   "outputs": [
    {
     "data": {
      "text/plain": [
       "<matplotlib.collections.PathCollection at 0x2aab97bdcd0>"
      ]
     },
     "execution_count": 67,
     "metadata": {},
     "output_type": "execute_result"
    },
    {
     "data": {
      "image/png": "[encoded data removed]",
      "text/plain": [
       "<Figure size 432x288 with 1 Axes>"
      ]
     },
     "metadata": {
      "needs_background": "light"
     },
     "output_type": "display_data"
    }
   ],
   "source": [
    "plt.grid()\n",
    "plt.ylim(0, 50)\n",
    "plt.xlim(-80, 80)\n",
    "plt.xlabel('Latitude')\n",
    "plt.ylabel('Wind Speed (MPH)')\n",
    "plt.title('City Latitude vs Wind Speed (4/23/21)') \n",
    "plt.scatter(cityDataClean_pd['Lat'], cityDataClean_pd['Wind Speed'], marker='o', facecolors='blue', edgecolors='black')"
   ]
  },
  {
   "cell_type": "markdown",
   "metadata": {},
   "source": [
    "## Linear Regression"
   ]
  },
  {
   "cell_type": "markdown",
   "metadata": {},
   "source": [
    "####  Northern Hemisphere - Max Temp vs. Latitude Linear Regression"
   ]
  },
  {
   "cell_type": "code",
   "execution_count": 73,
   "metadata": {},
   "outputs": [],
   "source": [
    "northernLats_pd = cityDataClean_pd.loc[cityDataClean_pd['Lat'] >= 0]\n",
    "southernLats_pd = cityDataClean_pd.loc[cityDataClean_pd['Lat'] <= 0]"
   ]
  },
  {
   "cell_type": "code",
   "execution_count": 78,
   "metadata": {},
   "outputs": [
    {
     "name": "stdout",
     "output_type": "stream",
     "text": [
      "The St. Pearson Correlation Coefficient between both factors is -0.89\n"
     ]
    },
    {
     "data": {
      "image/png": "[encoded data removed]",
      "text/plain": [
       "<Figure size 432x288 with 1 Axes>"
      ]
     },
     "metadata": {
      "needs_background": "light"
     },
     "output_type": "display_data"
    }
   ],
   "source": [
    "#get regression stats, print r\n",
    "slope, intercept, rValue, pValue, std_err = linregress(northernLats_pd['Lat'], northernLats_pd['Max Temp'])\n",
    "print(f'The St. Pearson Correlation Coefficient between both factors is {round(rValue, 2)}')\n",
    "\n",
    "#compose line of best fit (regression line) according to \"y = mx + b\"\n",
    "line_best_fit = slope*(northernLats_pd['Lat']) + intercept\n",
    "\n",
    "\n",
    "annotation_string = 'y = ' + str(round(slope, 2)) + 'x + ' + str(round(intercept, 2))\n",
    "plt.annotate(annotation_string, xy=(15,45), fontsize=13, color='red')\n",
    "plt.plot(northernLats_pd['Lat'],line_best_fit,\"-\", color='red')\n",
    "plt.ylim(0, 100)\n",
    "plt.xlim(0, 80)\n",
    "plt.xlabel('Latitude')\n",
    "plt.ylabel('Max Temperature (F)')\n",
    "plt.title('Northern Hemisphere - Max Temp vs. Latitude Linear Regression')\n",
    "\n",
    "plt.scatter(northernLats_pd['Lat'], northernLats_pd['Max Temp'], marker='o', facecolors='blue', edgecolors='blue')\n",
    "plt.show()"
   ]
  },
  {
   "cell_type": "markdown",
   "metadata": {},
   "source": [
    "####  Southern Hemisphere - Max Temp vs. Latitude Linear Regression"
   ]
  },
  {
   "cell_type": "code",
   "execution_count": 85,
   "metadata": {},
   "outputs": [
    {
     "name": "stdout",
     "output_type": "stream",
     "text": [
      "The St. Pearson Correlation Coefficient between both factors is 0.91\n"
     ]
    },
    {
     "data": {
      "image/png": "[encoded data removed]",
      "text/plain": [
       "<Figure size 432x288 with 1 Axes>"
      ]
     },
     "metadata": {
      "needs_background": "light"
     },
     "output_type": "display_data"
    }
   ],
   "source": [
    "#get regression stats, print r\n",
    "slope, intercept, rValue, pValue, std_err = linregress(southernLats_pd['Lat'], southernLats_pd['Max Temp'])\n",
    "print(f'The St. Pearson Correlation Coefficient between both factors is {round(rValue, 2)}')\n",
    "\n",
    "#compose line of best fit (regression line) according to \"y = mx + b\"\n",
    "line_best_fit = slope*(southernLats_pd['Lat']) + intercept\n",
    "\n",
    "\n",
    "annotation_string = 'y = ' + str(round(slope, 2)) + 'x + ' + str(round(intercept, 2))\n",
    "plt.annotate(annotation_string, xy=(15,45), fontsize=13, color='red')\n",
    "plt.plot(southernLats_pd['Lat'],line_best_fit,\"-\", color='red')\n",
    "plt.ylim(0, 100)\n",
    "plt.xlim(-80, 0)\n",
    "plt.xlabel('Latitude')\n",
    "plt.ylabel('Max Temperature (F)')\n",
    "plt.title('Southern Hemisphere - Max Temperature vs. Latitude Linear Regression')\n",
    "\n",
    "plt.scatter(southernLats_pd['Lat'], southernLats_pd['Max Temp'], marker='o', facecolors='blue', edgecolors='blue')\n",
    "plt.show()"
   ]
  },
  {
   "cell_type": "markdown",
   "metadata": {},
   "source": [
    "####  Northern Hemisphere - Humidity (%) vs. Latitude Linear Regression"
   ]
  },
  {
   "cell_type": "code",
   "execution_count": 84,
   "metadata": {},
   "outputs": [
    {
     "name": "stdout",
     "output_type": "stream",
     "text": [
      "The St. Pearson Correlation Coefficient between both factors is -0.38\n"
     ]
    },
    {
     "data": {
      "image/png": "[encoded data removed]",
      "text/plain": [
       "<Figure size 432x288 with 1 Axes>"
      ]
     },
     "metadata": {
      "needs_background": "light"
     },
     "output_type": "display_data"
    }
   ],
   "source": [
    "#get regression stats, print r\n",
    "slope, intercept, rValue, pValue, std_err = linregress(northernLats_pd['Lat'], northernLats_pd['Humidity'])\n",
    "print(f'The St. Pearson Correlation Coefficient between both factors is {round(rValue, 2)}')\n",
    "\n",
    "#compose line of best fit (regression line) according to \"y = mx + b\"\n",
    "line_best_fit = slope*(northernLats_pd['Lat']) + intercept\n",
    "\n",
    "\n",
    "annotation_string = 'y = ' + str(round(slope, 2)) + 'x + ' + str(round(intercept, 2))\n",
    "plt.annotate(annotation_string, xy=(15,45), fontsize=13, color='red')\n",
    "plt.plot(northernLats_pd['Lat'],line_best_fit,\"-\", color='red')\n",
    "plt.ylim(0, 100)\n",
    "plt.xlim(0, 80)\n",
    "plt.xlabel('Latitude')\n",
    "plt.ylabel('Humidity (%)')\n",
    "plt.title('Northern Hemisphere - Humidity vs. Latitude Linear Regression')\n",
    "\n",
    "plt.scatter(northernLats_pd['Lat'], northernLats_pd['Humidity'], marker='o', facecolors='blue', edgecolors='blue')\n",
    "plt.show()"
   ]
  },
  {
   "cell_type": "markdown",
   "metadata": {},
   "source": [
    "####  Southern Hemisphere - Humidity (%) vs. Latitude Linear Regression"
   ]
  },
  {
   "cell_type": "code",
   "execution_count": 86,
   "metadata": {},
   "outputs": [
    {
     "name": "stdout",
     "output_type": "stream",
     "text": [
      "The St. Pearson Correlation Coefficient between both factors is -0.55\n"
     ]
    },
    {
     "data": {
      "image/png": "[encoded data removed]",
      "text/plain": [
       "<Figure size 432x288 with 1 Axes>"
      ]
     },
     "metadata": {
      "needs_background": "light"
     },
     "output_type": "display_data"
    }
   ],
   "source": [
    "#get regression stats, print r\n",
    "slope, intercept, rValue, pValue, std_err = linregress(southernLats_pd['Lat'], southernLats_pd['Humidity'])\n",
    "print(f'The St. Pearson Correlation Coefficient between both factors is {round(rValue, 2)}')\n",
    "\n",
    "#compose line of best fit (regression line) according to \"y = mx + b\"\n",
    "line_best_fit = slope*(southernLats_pd['Lat']) + intercept\n",
    "\n",
    "\n",
    "annotation_string = 'y = ' + str(round(slope, 2)) + 'x + ' + str(round(intercept, 2))\n",
    "plt.annotate(annotation_string, xy=(15,45), fontsize=13, color='red')\n",
    "plt.plot(southernLats_pd['Lat'],line_best_fit,\"-\", color='red')\n",
    "plt.ylim(0, 100)\n",
    "plt.xlim(-80, 0)\n",
    "plt.xlabel('Latitude')\n",
    "plt.ylabel('Humidity (%)')\n",
    "plt.title('Southern Hemisphere - Humidity vs. Latitude Linear Regression')\n",
    "\n",
    "plt.scatter(southernLats_pd['Lat'], southernLats_pd['Humidity'], marker='o', facecolors='blue', edgecolors='blue')\n",
    "plt.show()"
   ]
  },
  {
   "cell_type": "markdown",
   "metadata": {},
   "source": [
    "####  Northern Hemisphere - Cloudiness (%) vs. Latitude Linear Regression"
   ]
  },
  {
   "cell_type": "code",
   "execution_count": 80,
   "metadata": {},
   "outputs": [
    {
     "name": "stdout",
     "output_type": "stream",
     "text": [
      "The St. Pearson Correlation Coefficient between both factors is -0.1\n"
     ]
    },
    {
     "data": {
      "image/png": "[encoded data removed]",
      "text/plain": [
       "<Figure size 432x288 with 1 Axes>"
      ]
     },
     "metadata": {
      "needs_background": "light"
     },
     "output_type": "display_data"
    }
   ],
   "source": [
    "#get regression stats, print r\n",
    "slope, intercept, rValue, pValue, std_err = linregress(northernLats_pd['Lat'], northernLats_pd['Cloudiness'])\n",
    "print(f'The St. Pearson Correlation Coefficient between both factors is {round(rValue, 2)}')\n",
    "\n",
    "#compose line of best fit (regression line) according to \"y = mx + b\"\n",
    "line_best_fit = slope*(northernLats_pd['Lat']) + intercept\n",
    "\n",
    "\n",
    "annotation_string = 'y = ' + str(round(slope, 2)) + 'x + ' + str(round(intercept, 2))\n",
    "plt.annotate(annotation_string, xy=(15,45), fontsize=13, color='red')\n",
    "plt.plot(northernLats_pd['Lat'],line_best_fit,\"-\", color='red')\n",
    "plt.ylim(0, 100)\n",
    "plt.xlim(0, 80)\n",
    "plt.xlabel('Latitude')\n",
    "plt.ylabel('Cloudiness (%)')\n",
    "plt.title('Northern Hemisphere - Cloudiness vs. Latitude Linear Regression')\n",
    "\n",
    "plt.scatter(northernLats_pd['Lat'], northernLats_pd['Cloudiness'], marker='o', facecolors='blue', edgecolors='blue')\n",
    "plt.show()"
   ]
  },
  {
   "cell_type": "markdown",
   "metadata": {},
   "source": [
    "####  Southern Hemisphere - Cloudiness (%) vs. Latitude Linear Regression"
   ]
  },
  {
   "cell_type": "code",
   "execution_count": 87,
   "metadata": {},
   "outputs": [
    {
     "name": "stdout",
     "output_type": "stream",
     "text": [
      "The St. Pearson Correlation Coefficient between both factors is -0.68\n"
     ]
    },
    {
     "data": {
      "image/png": "[encoded data removed]",
      "text/plain": [
       "<Figure size 432x288 with 1 Axes>"
      ]
     },
     "metadata": {
      "needs_background": "light"
     },
     "output_type": "display_data"
    }
   ],
   "source": [
    "#get regression stats, print r\n",
    "slope, intercept, rValue, pValue, std_err = linregress(southernLats_pd['Lat'], southernLats_pd['Cloudiness'])\n",
    "print(f'The St. Pearson Correlation Coefficient between both factors is {round(rValue, 2)}')\n",
    "\n",
    "#compose line of best fit (regression line) according to \"y = mx + b\"\n",
    "line_best_fit = slope*(southernLats_pd['Lat']) + intercept\n",
    "\n",
    "\n",
    "annotation_string = 'y = ' + str(round(slope, 2)) + 'x + ' + str(round(intercept, 2))\n",
    "plt.annotate(annotation_string, xy=(15,45), fontsize=13, color='red')\n",
    "plt.plot(southernLats_pd['Lat'],line_best_fit,\"-\", color='red')\n",
    "plt.ylim(0, 100)\n",
    "plt.xlim(-80, 0)\n",
    "plt.xlabel('Latitude')\n",
    "plt.ylabel('Cloudiness (%)')\n",
    "plt.title('Southern Hemisphere - Cloudiness vs. Latitude Linear Regression')\n",
    "\n",
    "plt.scatter(southernLats_pd['Lat'], southernLats_pd['Cloudiness'], marker='o', facecolors='blue', edgecolors='blue')\n",
    "plt.show()"
   ]
  },
  {
   "cell_type": "markdown",
   "metadata": {},
   "source": [
    "####  Northern Hemisphere - Wind Speed (mph) vs. Latitude Linear Regression"
   ]
  },
  {
   "cell_type": "code",
   "execution_count": 82,
   "metadata": {},
   "outputs": [
    {
     "name": "stdout",
     "output_type": "stream",
     "text": [
      "The St. Pearson Correlation Coefficient between both factors is -0.14\n"
     ]
    },
    {
     "data": {
      "image/png": "[encoded data removed]",
      "text/plain": [
       "<Figure size 432x288 with 1 Axes>"
      ]
     },
     "metadata": {
      "needs_background": "light"
     },
     "output_type": "display_data"
    }
   ],
   "source": [
    "#get regression stats, print r\n",
    "slope, intercept, rValue, pValue, std_err = linregress(northernLats_pd['Lat'], northernLats_pd['Wind Speed'])\n",
    "print(f'The St. Pearson Correlation Coefficient between both factors is {round(rValue, 2)}')\n",
    "\n",
    "#compose line of best fit (regression line) according to \"y = mx + b\"\n",
    "line_best_fit = slope*(northernLats_pd['Lat']) + intercept\n",
    "\n",
    "\n",
    "annotation_string = 'y = ' + str(round(slope, 2)) + 'x + ' + str(round(intercept, 2))\n",
    "plt.annotate(annotation_string, xy=(15,45), fontsize=13, color='red')\n",
    "plt.plot(northernLats_pd['Lat'],line_best_fit,\"-\", color='red')\n",
    "plt.ylim(0, 100)\n",
    "plt.xlim(0, 80)\n",
    "plt.xlabel('Latitude')\n",
    "plt.ylabel('Wind Speed (MPH)')\n",
    "plt.title('Northern Hemisphere - Wind Speed vs. Latitude Linear Regression')\n",
    "\n",
    "plt.scatter(northernLats_pd['Lat'], northernLats_pd['Wind Speed'], marker='o', facecolors='blue', edgecolors='blue')\n",
    "plt.show()"
   ]
  },
  {
   "cell_type": "markdown",
   "metadata": {},
   "source": [
    "####  Southern Hemisphere - Wind Speed (mph) vs. Latitude Linear Regression"
   ]
  },
  {
   "cell_type": "code",
   "execution_count": 88,
   "metadata": {},
   "outputs": [
    {
     "name": "stdout",
     "output_type": "stream",
     "text": [
      "The St. Pearson Correlation Coefficient between both factors is 0.36\n"
     ]
    },
    {
     "data": {
      "image/png": "[encoded data removed]",
      "text/plain": [
       "<Figure size 432x288 with 1 Axes>"
      ]
     },
     "metadata": {
      "needs_background": "light"
     },
     "output_type": "display_data"
    }
   ],
   "source": [
    "#get regression stats, print r\n",
    "slope, intercept, rValue, pValue, std_err = linregress(southernLats_pd['Lat'], southernLats_pd['Wind Speed'])\n",
    "print(f'The St. Pearson Correlation Coefficient between both factors is {round(rValue, 2)}')\n",
    "\n",
    "#compose line of best fit (regression line) according to \"y = mx + b\"\n",
    "line_best_fit = slope*(southernLats_pd['Lat']) + intercept\n",
    "\n",
    "\n",
    "annotation_string = 'y = ' + str(round(slope, 2)) + 'x + ' + str(round(intercept, 2))\n",
    "plt.annotate(annotation_string, xy=(15,45), fontsize=13, color='red')\n",
    "plt.plot(southernLats_pd['Lat'],line_best_fit,\"-\", color='red')\n",
    "plt.ylim(0, 100)\n",
    "plt.xlim(-80, 0)\n",
    "plt.xlabel('Latitude')\n",
    "plt.ylabel('Wind Speed (MPH)')\n",
    "plt.title('Southern Hemisphere - Wind Speed vs. Latitude Linear Regression')\n",
    "\n",
    "plt.scatter(southernLats_pd['Lat'], southernLats_pd['Wind Speed'], marker='o', facecolors='blue', edgecolors='blue')\n",
    "plt.show()"
   ]
  },
  {
   "cell_type": "code",
   "execution_count": null,
   "metadata": {},
   "outputs": [],
   "source": []
  }
 ],
 "metadata": {
  "anaconda-cloud": {},
  "kernel_info": {
   "name": "python3"
  },
  "kernelspec": {
   "display_name": "Python 3",
   "language": "python",
   "name": "python3"
  },
  "language_info": {
   "codemirror_mode": {
    "name": "ipython",
    "version": 3
   },
   "file_extension": ".py",
   "mimetype": "text/x-python",
   "name": "python",
   "nbconvert_exporter": "python",
   "pygments_lexer": "ipython3",
   "version": "3.8.5"
  },
  "latex_envs": {
   "LaTeX_envs_menu_present": true,
   "autoclose": false,
   "autocomplete": true,
   "bibliofile": "biblio.bib",
   "cite_by": "apalike",
   "current_citInitial": 1,
   "eqLabelWithNumbers": true,
   "eqNumInitial": 1,
   "hotkeys": {
    "equation": "Ctrl-E",
    "itemize": "Ctrl-I"
   },
   "labels_anchors": false,
   "latex_user_defs": false,
   "report_style_numbering": false,
   "user_envs_cfg": false
  },
  "nteract": {
   "version": "0.12.3"
  }
 },
 "nbformat": 4,
 "nbformat_minor": 2
}
