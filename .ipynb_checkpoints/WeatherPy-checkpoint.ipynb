{
 "cells": [
  {
   "cell_type": "markdown",
   "metadata": {},
   "source": [
    "# WeatherPy\n",
    "----\n",
    "\n",
    "#### Note\n",
    "* Instructions have been included for each segment. You do not have to follow them exactly, but they are included to help you think through the steps."
   ]
  },
  {
   "cell_type": "code",
   "execution_count": 1,
   "metadata": {
    "scrolled": true
   },
   "outputs": [],
   "source": [
    "#dependencies and Setup\n",
    "import matplotlib.pyplot as plt\n",
    "import pandas as pd\n",
    "import numpy as np\n",
    "import requests\n",
    "import time\n",
    "import datetime\n",
    "from scipy.stats import linregress\n",
    "\n",
    "#import API key\n",
    "from api_keys import weather_api_key\n",
    "\n",
    "#import citipy to determine city based on latitude and longitude\n",
    "from citipy import citipy\n",
    "\n",
    "#import geopy to find country based on latitude and longitude\n",
    "from geopy.geocoders import Nominatim\n",
    "\n",
    "#output to File (CSV)\n",
    "output_data_file = \"output_data/cities.csv\"\n",
    "\n",
    "#range of latitudes and longitudes\n",
    "lat_range = (-90, 90)\n",
    "lng_range = (-180, 180)"
   ]
  },
  {
   "cell_type": "markdown",
   "metadata": {},
   "source": [
    "## Generate Cities List"
   ]
  },
  {
   "cell_type": "code",
   "execution_count": 2,
   "metadata": {},
   "outputs": [
    {
     "data": {
      "text/plain": [
       "625"
      ]
     },
     "execution_count": 2,
     "metadata": {},
     "output_type": "execute_result"
    }
   ],
   "source": [
    "#list for holding lat/lng and cities\n",
    "lat_lngs = []\n",
    "cities = []\n",
    "\n",
    "#create a set of random lat and lng combinations, zip into one list variable\n",
    "lats = np.random.uniform(lat_range[0], lat_range[1], size=1500)\n",
    "lngs = np.random.uniform(lng_range[0], lng_range[1], size=1500)\n",
    "lat_lngs = zip(lats, lngs)\n",
    "\n",
    "\n",
    "#identify nearest city for each lat, lng combination\n",
    "for lat_lng in lat_lngs:\n",
    "    city = citipy.nearest_city(lat_lng[0], lat_lng[1]).city_name\n",
    "    \n",
    "    #if the city is not already in our cities list, add it\n",
    "    if city not in cities:\n",
    "        cities.append(city)\n",
    "\n",
    "#print the city count to confirm sufficient count\n",
    "len(cities)"
   ]
  },
  {
   "cell_type": "markdown",
   "metadata": {},
   "source": [
    "### Perform API Calls\n",
    "* Perform a weather check on each city using a series of successive API calls.\n",
    "* Include a print log of each city as it'sbeing processed (with the city number and city name).\n"
   ]
  },
  {
   "cell_type": "code",
   "execution_count": 4,
   "metadata": {
    "scrolled": true
   },
   "outputs": [
    {
     "name": "stdout",
     "output_type": "stream",
     "text": [
      "Beginning Data Retrieval\n",
      "----------------------------\n",
      "processing record 1 of set 1 | bluff\n",
      "processing record 2 of set 1 | nurota\n",
      "processing record 3 of set 1 | margate\n",
      "processing record 4 of set 1 | beringovskiy\n",
      "processing record 5 of set 1 | cape town\n",
      "processing record 6 of set 1 | buchanan\n",
      "processing record 7 of set 1 | olafsvik\n",
      "processing record 8 of set 1 | vaini\n",
      "processing record 9 of set 1 | castro\n",
      "processing record 10 of set 1 | geraldton\n",
      "processing record 11 of set 1 | rikitea\n",
      "processing record 12 of set 1 | punta arenas\n",
      "processing record 13 of set 1 | karakendzha\n",
      "karakendzha not found. Skipping...\n",
      "processing record 14 of set 1 | karia\n",
      "processing record 15 of set 1 | creel\n",
      "processing record 16 of set 1 | qaanaaq\n",
      "processing record 17 of set 1 | marzuq\n",
      "processing record 18 of set 1 | malatya\n",
      "processing record 19 of set 1 | hithadhoo\n",
      "processing record 20 of set 1 | chokurdakh\n"
     ]
    }
   ],
   "source": [
    "\n",
    "url = 'http://api.openweathermap.org/data/2.5/weather?units=imperial&appid=' + weather_api_key + '&q=' \n",
    "\n",
    "cityData = []\n",
    "cityDataStats = []\n",
    "set_count = 1 #group\n",
    "record = 1 #record within group\n",
    "\n",
    "print(f'Beginning Data Retrieval')\n",
    "print(f'----------------------------')\n",
    "\n",
    "for i, city in enumerate(cities):\n",
    "    if(i % 50 == 0 and i >= 50):\n",
    "        set_count += 1 #make new group\n",
    "        record = 0 #reset records in the group \n",
    "        \n",
    "#output record and group being processed\n",
    "    print(f'processing record {record} of set {set_count} | {city}')       \n",
    "     \n",
    "    record += 1\n",
    "    \n",
    "    cityurl = url + city\n",
    "    try:\n",
    "        cityWeather = requests.get(cityurl).json()\n",
    "        lat = cityWeather['coord']['lat']\n",
    "        lon = cityWeather['coord']['lon']\n",
    "        maxTemp = cityWeather['main']['temp_max']\n",
    "        humidity = cityWeather['main']['humidity']\n",
    "        cloudiness = cityWeather['clouds']['all']\n",
    "        windSpeed = cityWeather['wind']['speed']\n",
    "        date = cityWeather['dt']\n",
    "        timestamp = datetime.datetime.fromtimestamp(date)\n",
    "        dateConvert = timestamp.strftime('%m-%d-%Y At %H:%M:%S')\n",
    "        geolocator = Nominatim(user_agent=\"python_api_project\")\n",
    "        location = geolocator.reverse(str(lat)+\",\"+str(lon))\n",
    "        address = location.raw['address']\n",
    "        country_code = address.get('country_code').upper()\n",
    "        \n",
    "        cityData.append({'City':city, 'Lat':round(lat, 2), 'Lng':round(lon, 2), 'Max Temp': str(maxTemp) + ' F', \n",
    "                         'Humidity':str(humidity) + '%', 'Cloudiness':str(cloudiness) + '%', 'Wind Speed':str(windSpeed) + ' MPH',\n",
    "                        'Country': country_code, 'Date':dateConvert})\n",
    "        cityDataStats.append({'Lat':lat, 'Lng':lon, 'Max Temp': maxTemp, \n",
    "                         'Humidity':humidity, 'Cloudiness':cloudiness, 'Wind Speed':windSpeed,\n",
    "                        'Date':date})\n",
    "\n",
    "        \n",
    "        \n",
    "\n",
    "    except:\n",
    "        print(f'{city} not found. Skipping...')\n",
    "     \n",
    "    if (i == 19):\n",
    "        break"
   ]
  },
  {
   "cell_type": "markdown",
   "metadata": {},
   "source": [
    "### Convert Raw Data to DataFrame\n",
    "* Export the city data into a .csv.\n",
    "* Display the DataFrame"
   ]
  },
  {
   "cell_type": "code",
   "execution_count": 5,
   "metadata": {},
   "outputs": [
    {
     "data": {
      "text/html": [
       "<div>\n",
       "<style scoped>\n",
       "    .dataframe tbody tr th:only-of-type {\n",
       "        vertical-align: middle;\n",
       "    }\n",
       "\n",
       "    .dataframe tbody tr th {\n",
       "        vertical-align: top;\n",
       "    }\n",
       "\n",
       "    .dataframe thead th {\n",
       "        text-align: right;\n",
       "    }\n",
       "</style>\n",
       "<table border=\"1\" class=\"dataframe\">\n",
       "  <thead>\n",
       "    <tr style=\"text-align: right;\">\n",
       "      <th></th>\n",
       "      <th>City</th>\n",
       "      <th>Lat</th>\n",
       "      <th>Lng</th>\n",
       "      <th>Max Temp</th>\n",
       "      <th>Humidity</th>\n",
       "      <th>Cloudiness</th>\n",
       "      <th>Wind Speed</th>\n",
       "      <th>Country</th>\n",
       "      <th>Date</th>\n",
       "    </tr>\n",
       "  </thead>\n",
       "  <tbody>\n",
       "    <tr>\n",
       "      <th>0</th>\n",
       "      <td>bluff</td>\n",
       "      <td>-46.60</td>\n",
       "      <td>168.33</td>\n",
       "      <td>45 F</td>\n",
       "      <td>95%</td>\n",
       "      <td>25%</td>\n",
       "      <td>1.99 MPH</td>\n",
       "      <td>NZ</td>\n",
       "      <td>04-23-2021 At 08:37:14</td>\n",
       "    </tr>\n",
       "    <tr>\n",
       "      <th>1</th>\n",
       "      <td>nurota</td>\n",
       "      <td>40.56</td>\n",
       "      <td>65.69</td>\n",
       "      <td>69.8 F</td>\n",
       "      <td>23%</td>\n",
       "      <td>36%</td>\n",
       "      <td>4.61 MPH</td>\n",
       "      <td>UZ</td>\n",
       "      <td>04-23-2021 At 08:46:52</td>\n",
       "    </tr>\n",
       "    <tr>\n",
       "      <th>2</th>\n",
       "      <td>margate</td>\n",
       "      <td>51.38</td>\n",
       "      <td>1.39</td>\n",
       "      <td>52 F</td>\n",
       "      <td>55%</td>\n",
       "      <td>0%</td>\n",
       "      <td>4 MPH</td>\n",
       "      <td>GB</td>\n",
       "      <td>04-23-2021 At 08:41:41</td>\n",
       "    </tr>\n",
       "    <tr>\n",
       "      <th>3</th>\n",
       "      <td>beringovskiy</td>\n",
       "      <td>63.05</td>\n",
       "      <td>179.32</td>\n",
       "      <td>14.59 F</td>\n",
       "      <td>87%</td>\n",
       "      <td>98%</td>\n",
       "      <td>6.33 MPH</td>\n",
       "      <td>RU</td>\n",
       "      <td>04-23-2021 At 08:36:36</td>\n",
       "    </tr>\n",
       "    <tr>\n",
       "      <th>4</th>\n",
       "      <td>cape town</td>\n",
       "      <td>-33.93</td>\n",
       "      <td>18.42</td>\n",
       "      <td>68 F</td>\n",
       "      <td>60%</td>\n",
       "      <td>0%</td>\n",
       "      <td>10.36 MPH</td>\n",
       "      <td>ZA</td>\n",
       "      <td>04-23-2021 At 08:37:09</td>\n",
       "    </tr>\n",
       "  </tbody>\n",
       "</table>\n",
       "</div>"
      ],
      "text/plain": [
       "           City    Lat     Lng Max Temp Humidity Cloudiness Wind Speed  \\\n",
       "0         bluff -46.60  168.33     45 F      95%        25%   1.99 MPH   \n",
       "1        nurota  40.56   65.69   69.8 F      23%        36%   4.61 MPH   \n",
       "2       margate  51.38    1.39     52 F      55%         0%      4 MPH   \n",
       "3  beringovskiy  63.05  179.32  14.59 F      87%        98%   6.33 MPH   \n",
       "4     cape town -33.93   18.42     68 F      60%         0%  10.36 MPH   \n",
       "\n",
       "  Country                    Date  \n",
       "0      NZ  04-23-2021 At 08:37:14  \n",
       "1      UZ  04-23-2021 At 08:46:52  \n",
       "2      GB  04-23-2021 At 08:41:41  \n",
       "3      RU  04-23-2021 At 08:36:36  \n",
       "4      ZA  04-23-2021 At 08:37:09  "
      ]
     },
     "execution_count": 5,
     "metadata": {},
     "output_type": "execute_result"
    }
   ],
   "source": [
    "cityData_pd = pd.DataFrame(cityData)\n",
    "cityData_pd.head()"
   ]
  },
  {
   "cell_type": "code",
   "execution_count": 6,
   "metadata": {},
   "outputs": [
    {
     "data": {
      "text/html": [
       "<div>\n",
       "<style scoped>\n",
       "    .dataframe tbody tr th:only-of-type {\n",
       "        vertical-align: middle;\n",
       "    }\n",
       "\n",
       "    .dataframe tbody tr th {\n",
       "        vertical-align: top;\n",
       "    }\n",
       "\n",
       "    .dataframe thead th {\n",
       "        text-align: right;\n",
       "    }\n",
       "</style>\n",
       "<table border=\"1\" class=\"dataframe\">\n",
       "  <thead>\n",
       "    <tr style=\"text-align: right;\">\n",
       "      <th></th>\n",
       "      <th>Lat</th>\n",
       "      <th>Lng</th>\n",
       "      <th>Max Temp</th>\n",
       "      <th>Humidity</th>\n",
       "      <th>Cloudiness</th>\n",
       "      <th>Wind Speed</th>\n",
       "      <th>Date</th>\n",
       "    </tr>\n",
       "  </thead>\n",
       "  <tbody>\n",
       "    <tr>\n",
       "      <th>count</th>\n",
       "      <td>19.000000</td>\n",
       "      <td>19.000000</td>\n",
       "      <td>19.000000</td>\n",
       "      <td>19.000000</td>\n",
       "      <td>19.000000</td>\n",
       "      <td>19.000000</td>\n",
       "      <td>1.900000e+01</td>\n",
       "    </tr>\n",
       "    <tr>\n",
       "      <th>mean</th>\n",
       "      <td>12.321684</td>\n",
       "      <td>11.711705</td>\n",
       "      <td>58.231579</td>\n",
       "      <td>63.842105</td>\n",
       "      <td>43.947368</td>\n",
       "      <td>7.152632</td>\n",
       "      <td>1.619192e+09</td>\n",
       "    </tr>\n",
       "    <tr>\n",
       "      <th>std</th>\n",
       "      <td>42.022361</td>\n",
       "      <td>100.034385</td>\n",
       "      <td>27.693145</td>\n",
       "      <td>29.379250</td>\n",
       "      <td>41.515022</td>\n",
       "      <td>5.781142</td>\n",
       "      <td>2.824286e+02</td>\n",
       "    </tr>\n",
       "    <tr>\n",
       "      <th>min</th>\n",
       "      <td>-53.150000</td>\n",
       "      <td>-175.200000</td>\n",
       "      <td>-13.500000</td>\n",
       "      <td>11.000000</td>\n",
       "      <td>0.000000</td>\n",
       "      <td>1.140000</td>\n",
       "      <td>1.619192e+09</td>\n",
       "    </tr>\n",
       "    <tr>\n",
       "      <th>25%</th>\n",
       "      <td>-23.955700</td>\n",
       "      <td>-59.687550</td>\n",
       "      <td>45.700000</td>\n",
       "      <td>47.500000</td>\n",
       "      <td>1.500000</td>\n",
       "      <td>3.375000</td>\n",
       "      <td>1.619192e+09</td>\n",
       "    </tr>\n",
       "    <tr>\n",
       "      <th>50%</th>\n",
       "      <td>11.730600</td>\n",
       "      <td>11.162900</td>\n",
       "      <td>68.000000</td>\n",
       "      <td>71.000000</td>\n",
       "      <td>27.000000</td>\n",
       "      <td>5.230000</td>\n",
       "      <td>1.619192e+09</td>\n",
       "    </tr>\n",
       "    <tr>\n",
       "      <th>75%</th>\n",
       "      <td>45.971350</td>\n",
       "      <td>69.385950</td>\n",
       "      <td>74.725000</td>\n",
       "      <td>89.500000</td>\n",
       "      <td>92.500000</td>\n",
       "      <td>8.825000</td>\n",
       "      <td>1.619193e+09</td>\n",
       "    </tr>\n",
       "    <tr>\n",
       "      <th>max</th>\n",
       "      <td>77.484000</td>\n",
       "      <td>179.316700</td>\n",
       "      <td>101.980000</td>\n",
       "      <td>99.000000</td>\n",
       "      <td>100.000000</td>\n",
       "      <td>20.400000</td>\n",
       "      <td>1.619193e+09</td>\n",
       "    </tr>\n",
       "  </tbody>\n",
       "</table>\n",
       "</div>"
      ],
      "text/plain": [
       "             Lat         Lng    Max Temp   Humidity  Cloudiness  Wind Speed  \\\n",
       "count  19.000000   19.000000   19.000000  19.000000   19.000000   19.000000   \n",
       "mean   12.321684   11.711705   58.231579  63.842105   43.947368    7.152632   \n",
       "std    42.022361  100.034385   27.693145  29.379250   41.515022    5.781142   \n",
       "min   -53.150000 -175.200000  -13.500000  11.000000    0.000000    1.140000   \n",
       "25%   -23.955700  -59.687550   45.700000  47.500000    1.500000    3.375000   \n",
       "50%    11.730600   11.162900   68.000000  71.000000   27.000000    5.230000   \n",
       "75%    45.971350   69.385950   74.725000  89.500000   92.500000    8.825000   \n",
       "max    77.484000  179.316700  101.980000  99.000000  100.000000   20.400000   \n",
       "\n",
       "               Date  \n",
       "count  1.900000e+01  \n",
       "mean   1.619192e+09  \n",
       "std    2.824286e+02  \n",
       "min    1.619192e+09  \n",
       "25%    1.619192e+09  \n",
       "50%    1.619192e+09  \n",
       "75%    1.619193e+09  \n",
       "max    1.619193e+09  "
      ]
     },
     "execution_count": 6,
     "metadata": {},
     "output_type": "execute_result"
    }
   ],
   "source": [
    "cityDataStats_pd = pd.DataFrame(cityDataStats)\n",
    "cityDataStats_pd.describe(datetime_is_numeric=True)"
   ]
  },
  {
   "cell_type": "markdown",
   "metadata": {},
   "source": [
    "## Inspect the data and remove the cities where the humidity > 100%.\n",
    "----\n",
    "Skip this step if there are no cities that have humidity > 100%. "
   ]
  },
  {
   "cell_type": "code",
   "execution_count": null,
   "metadata": {},
   "outputs": [
    {
     "name": "stdout",
     "output_type": "stream",
     "text": [
      "Humidity data not retrievable. Skipping...\n",
      "Humidity data not retrievable. Skipping...\n",
      "Humidity data not retrievable. Skipping...\n",
      "Humidity data not retrievable. Skipping...\n",
      "Humidity data not retrievable. Skipping...\n",
      "Humidity data not retrievable. Skipping...\n",
      "Humidity data not retrievable. Skipping...\n",
      "Humidity data not retrievable. Skipping...\n",
      "Humidity data not retrievable. Skipping...\n",
      "Humidity data not retrievable. Skipping...\n",
      "Humidity data not retrievable. Skipping...\n",
      "Humidity data not retrievable. Skipping...\n",
      "Humidity data not retrievable. Skipping...\n",
      "Humidity data not retrievable. Skipping...\n",
      "Humidity data not retrievable. Skipping...\n",
      "Humidity data not retrievable. Skipping...\n",
      "Humidity data not retrievable. Skipping...\n",
      "Humidity data not retrievable. Skipping...\n",
      "Humidity data not retrievable. Skipping...\n",
      "Humidity data not retrievable. Skipping...\n",
      "Humidity data not retrievable. Skipping...\n",
      "Humidity data not retrievable. Skipping...\n",
      "Humidity data not retrievable. Skipping...\n",
      "Humidity data not retrievable. Skipping...\n",
      "Humidity data not retrievable. Skipping...\n",
      "Humidity data not retrievable. Skipping...\n",
      "Humidity data not retrievable. Skipping...\n",
      "Humidity data not retrievable. Skipping...\n",
      "Humidity data not retrievable. Skipping...\n",
      "Humidity data not retrievable. Skipping...\n",
      "Humidity data not retrievable. Skipping...\n",
      "Humidity data not retrievable. Skipping...\n",
      "Humidity data not retrievable. Skipping...\n",
      "Humidity data not retrievable. Skipping...\n",
      "Humidity data not retrievable. Skipping...\n",
      "Humidity data not retrievable. Skipping...\n",
      "Humidity data not retrievable. Skipping...\n"
     ]
    }
   ],
   "source": [
    "#get the indices of cities that have humidity over 100%.\n",
    "cityDataClean_pd = cityData_pd\n",
    "for i, city in enumerate(cities):\n",
    "    url = 'http://api.openweathermap.org/data/2.5/weather?units=imperial&appid=' + weather_api_key + '&q='\n",
    "    cityurl = url + city\n",
    "    try:\n",
    "        cityWeather = requests.get(cityurl).json()\n",
    "        if((cityWeather['main']['humidity']) > 100):\n",
    "            cityDataClean.drop(i, axis=0)\n",
    "    except:\n",
    "        print('Humidity data not retrievable. Skipping...')\n",
    "cityDataClean_pd.head()\n",
    "        "
   ]
  },
  {
   "cell_type": "code",
   "execution_count": null,
   "metadata": {},
   "outputs": [],
   "source": [
    "# Make a new DataFrame equal to the city data to drop all humidity outliers by index.\n",
    "# Passing \"inplace=False\" will make a copy of the city_data DataFrame, which we call \"clean_city_data\".\n"
   ]
  },
  {
   "cell_type": "code",
   "execution_count": null,
   "metadata": {},
   "outputs": [],
   "source": [
    "\n"
   ]
  },
  {
   "cell_type": "markdown",
   "metadata": {},
   "source": [
    "## Plotting the Data\n",
    "* Use proper labeling of the plots using plot titles (including date of analysis) and axes labels.\n",
    "* Save the plotted figures as .pngs."
   ]
  },
  {
   "cell_type": "markdown",
   "metadata": {},
   "source": [
    "## Latitude vs. Temperature Plot"
   ]
  },
  {
   "cell_type": "code",
   "execution_count": null,
   "metadata": {
    "scrolled": true
   },
   "outputs": [],
   "source": []
  },
  {
   "cell_type": "markdown",
   "metadata": {},
   "source": [
    "## Latitude vs. Humidity Plot"
   ]
  },
  {
   "cell_type": "code",
   "execution_count": null,
   "metadata": {},
   "outputs": [],
   "source": []
  },
  {
   "cell_type": "markdown",
   "metadata": {},
   "source": [
    "## Latitude vs. Cloudiness Plot"
   ]
  },
  {
   "cell_type": "code",
   "execution_count": null,
   "metadata": {},
   "outputs": [],
   "source": []
  },
  {
   "cell_type": "markdown",
   "metadata": {},
   "source": [
    "## Latitude vs. Wind Speed Plot"
   ]
  },
  {
   "cell_type": "code",
   "execution_count": null,
   "metadata": {},
   "outputs": [],
   "source": []
  },
  {
   "cell_type": "markdown",
   "metadata": {},
   "source": [
    "## Linear Regression"
   ]
  },
  {
   "cell_type": "code",
   "execution_count": null,
   "metadata": {},
   "outputs": [],
   "source": []
  },
  {
   "cell_type": "markdown",
   "metadata": {},
   "source": [
    "####  Northern Hemisphere - Max Temp vs. Latitude Linear Regression"
   ]
  },
  {
   "cell_type": "code",
   "execution_count": null,
   "metadata": {},
   "outputs": [],
   "source": []
  },
  {
   "cell_type": "markdown",
   "metadata": {},
   "source": [
    "####  Southern Hemisphere - Max Temp vs. Latitude Linear Regression"
   ]
  },
  {
   "cell_type": "code",
   "execution_count": null,
   "metadata": {},
   "outputs": [],
   "source": []
  },
  {
   "cell_type": "markdown",
   "metadata": {},
   "source": [
    "####  Northern Hemisphere - Humidity (%) vs. Latitude Linear Regression"
   ]
  },
  {
   "cell_type": "code",
   "execution_count": null,
   "metadata": {},
   "outputs": [],
   "source": []
  },
  {
   "cell_type": "markdown",
   "metadata": {},
   "source": [
    "####  Southern Hemisphere - Humidity (%) vs. Latitude Linear Regression"
   ]
  },
  {
   "cell_type": "code",
   "execution_count": null,
   "metadata": {},
   "outputs": [],
   "source": []
  },
  {
   "cell_type": "markdown",
   "metadata": {},
   "source": [
    "####  Northern Hemisphere - Cloudiness (%) vs. Latitude Linear Regression"
   ]
  },
  {
   "cell_type": "code",
   "execution_count": null,
   "metadata": {},
   "outputs": [],
   "source": []
  },
  {
   "cell_type": "markdown",
   "metadata": {},
   "source": [
    "####  Southern Hemisphere - Cloudiness (%) vs. Latitude Linear Regression"
   ]
  },
  {
   "cell_type": "code",
   "execution_count": null,
   "metadata": {},
   "outputs": [],
   "source": []
  },
  {
   "cell_type": "markdown",
   "metadata": {},
   "source": [
    "####  Northern Hemisphere - Wind Speed (mph) vs. Latitude Linear Regression"
   ]
  },
  {
   "cell_type": "code",
   "execution_count": null,
   "metadata": {},
   "outputs": [],
   "source": []
  },
  {
   "cell_type": "markdown",
   "metadata": {},
   "source": [
    "####  Southern Hemisphere - Wind Speed (mph) vs. Latitude Linear Regression"
   ]
  },
  {
   "cell_type": "code",
   "execution_count": null,
   "metadata": {},
   "outputs": [],
   "source": []
  },
  {
   "cell_type": "code",
   "execution_count": null,
   "metadata": {},
   "outputs": [],
   "source": []
  }
 ],
 "metadata": {
  "anaconda-cloud": {},
  "kernel_info": {
   "name": "python3"
  },
  "kernelspec": {
   "display_name": "Python 3",
   "language": "python",
   "name": "python3"
  },
  "language_info": {
   "codemirror_mode": {
    "name": "ipython",
    "version": 3
   },
   "file_extension": ".py",
   "mimetype": "text/x-python",
   "name": "python",
   "nbconvert_exporter": "python",
   "pygments_lexer": "ipython3",
   "version": "3.8.5"
  },
  "latex_envs": {
   "LaTeX_envs_menu_present": true,
   "autoclose": false,
   "autocomplete": true,
   "bibliofile": "biblio.bib",
   "cite_by": "apalike",
   "current_citInitial": 1,
   "eqLabelWithNumbers": true,
   "eqNumInitial": 1,
   "hotkeys": {
    "equation": "Ctrl-E",
    "itemize": "Ctrl-I"
   },
   "labels_anchors": false,
   "latex_user_defs": false,
   "report_style_numbering": false,
   "user_envs_cfg": false
  },
  "nteract": {
   "version": "0.12.3"
  }
 },
 "nbformat": 4,
 "nbformat_minor": 2
}
